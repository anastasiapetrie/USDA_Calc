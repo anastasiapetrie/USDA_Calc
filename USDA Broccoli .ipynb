{
 "cells": [
  {
   "cell_type": "code",
   "execution_count": 1,
   "metadata": {
    "collapsed": false
   },
   "outputs": [],
   "source": [
    "import pandas as pd\n",
    "import numpy as np"
   ]
  },
  {
   "cell_type": "code",
   "execution_count": 2,
   "metadata": {
    "collapsed": false
   },
   "outputs": [],
   "source": [
    "#import broccoli raw data from USDA 2016-2012\n",
    "broc_2016 = pd.read_csv('/Users/anastasia.petrie/Desktop/USDA_Calc/Data/broc csv/broc_2016.csv')"
   ]
  },
  {
   "cell_type": "code",
   "execution_count": 3,
   "metadata": {
    "collapsed": true
   },
   "outputs": [],
   "source": [
    "broc_2015 = pd.read_csv('/Users/anastasia.petrie/Desktop/USDA_Calc/Data/broc csv/broc_2015.csv')\n",
    "broc_2014 = pd.read_csv('/Users/anastasia.petrie/Desktop/USDA_Calc/Data/broc csv/broc_2014.csv')\n",
    "broc_2013 = pd.read_csv('/Users/anastasia.petrie/Desktop/USDA_Calc/Data/broc csv/broc_2013.csv')\n",
    "broc_2012 = pd.read_csv('/Users/anastasia.petrie/Desktop/USDA_Calc/Data/broc csv/broc_2012.csv')"
   ]
  },
  {
   "cell_type": "code",
   "execution_count": 4,
   "metadata": {
    "collapsed": true
   },
   "outputs": [],
   "source": [
    "#combine into single file\n",
    "broc = pd.concat([broc_2016, broc_2015, broc_2014, broc_2013, broc_2012])"
   ]
  },
  {
   "cell_type": "code",
   "execution_count": 5,
   "metadata": {
    "collapsed": false
   },
   "outputs": [],
   "source": [
    "#convert to dataframe\n",
    "b = pd.DataFrame(broc)"
   ]
  },
  {
   "cell_type": "code",
   "execution_count": 6,
   "metadata": {
    "collapsed": false
   },
   "outputs": [
    {
     "data": {
      "text/html": [
       "<div>\n",
       "<table border=\"1\" class=\"dataframe\">\n",
       "  <thead>\n",
       "    <tr style=\"text-align: right;\">\n",
       "      <th></th>\n",
       "      <th>Commodity Name</th>\n",
       "      <th>City Name</th>\n",
       "      <th>Type</th>\n",
       "      <th>Package</th>\n",
       "      <th>Variety</th>\n",
       "      <th>Sub Variety</th>\n",
       "      <th>Grade</th>\n",
       "      <th>Date</th>\n",
       "      <th>Low Price</th>\n",
       "      <th>High Price</th>\n",
       "      <th>...</th>\n",
       "      <th>Purchase Lot Size</th>\n",
       "      <th>Section or Sale</th>\n",
       "      <th>Import/Export</th>\n",
       "      <th>Supply Tone</th>\n",
       "      <th>Demand Tone</th>\n",
       "      <th>Basis of Sale</th>\n",
       "      <th>Market Tone</th>\n",
       "      <th>Price Comment</th>\n",
       "      <th>Comments</th>\n",
       "      <th>Rpt City</th>\n",
       "    </tr>\n",
       "  </thead>\n",
       "  <tbody>\n",
       "    <tr>\n",
       "      <th>0</th>\n",
       "      <td>BROCCOLI</td>\n",
       "      <td>SALINAS-WATSONVILLE CALIFORNIA</td>\n",
       "      <td>NaN</td>\n",
       "      <td>cartons</td>\n",
       "      <td>NaN</td>\n",
       "      <td>NaN</td>\n",
       "      <td>NaN</td>\n",
       "      <td>3/2/16</td>\n",
       "      <td>4.45</td>\n",
       "      <td>7.55</td>\n",
       "      <td>...</td>\n",
       "      <td>NaN</td>\n",
       "      <td>NaN</td>\n",
       "      <td>NaN</td>\n",
       "      <td>NaN</td>\n",
       "      <td>LIGHT.</td>\n",
       "      <td>Sales F.O.B. Shipping Point and/or Delivered S...</td>\n",
       "      <td>NaN</td>\n",
       "      <td>occasional higher and lower. FIRST REPORT.</td>\n",
       "      <td>Extra services included.</td>\n",
       "      <td>PHOENIX, AZ</td>\n",
       "    </tr>\n",
       "    <tr>\n",
       "      <th>1</th>\n",
       "      <td>BROCCOLI</td>\n",
       "      <td>SALINAS-WATSONVILLE CALIFORNIA</td>\n",
       "      <td>NaN</td>\n",
       "      <td>cartons</td>\n",
       "      <td>NaN</td>\n",
       "      <td>NaN</td>\n",
       "      <td>NaN</td>\n",
       "      <td>3/3/16</td>\n",
       "      <td>5.45</td>\n",
       "      <td>7.55</td>\n",
       "      <td>...</td>\n",
       "      <td>NaN</td>\n",
       "      <td>NaN</td>\n",
       "      <td>NaN</td>\n",
       "      <td>NaN</td>\n",
       "      <td>LIGHT.</td>\n",
       "      <td>Sales F.O.B. Shipping Point and/or Delivered S...</td>\n",
       "      <td>ABOUT STEADY.</td>\n",
       "      <td>occasional lower</td>\n",
       "      <td>Extra services included.</td>\n",
       "      <td>PHOENIX, AZ</td>\n",
       "    </tr>\n",
       "    <tr>\n",
       "      <th>2</th>\n",
       "      <td>BROCCOLI</td>\n",
       "      <td>SALINAS-WATSONVILLE CALIFORNIA</td>\n",
       "      <td>NaN</td>\n",
       "      <td>cartons</td>\n",
       "      <td>NaN</td>\n",
       "      <td>NaN</td>\n",
       "      <td>NaN</td>\n",
       "      <td>3/4/16</td>\n",
       "      <td>5.00</td>\n",
       "      <td>7.55</td>\n",
       "      <td>...</td>\n",
       "      <td>NaN</td>\n",
       "      <td>NaN</td>\n",
       "      <td>NaN</td>\n",
       "      <td>NaN</td>\n",
       "      <td>FAIRLY LIGHT.</td>\n",
       "      <td>Sales F.O.B. Shipping Point and/or Delivered S...</td>\n",
       "      <td>ABOUT STEADY.</td>\n",
       "      <td>occasional higher and lower</td>\n",
       "      <td>Extra services included.</td>\n",
       "      <td>PHOENIX, AZ</td>\n",
       "    </tr>\n",
       "    <tr>\n",
       "      <th>3</th>\n",
       "      <td>BROCCOLI</td>\n",
       "      <td>SALINAS-WATSONVILLE CALIFORNIA</td>\n",
       "      <td>NaN</td>\n",
       "      <td>cartons</td>\n",
       "      <td>NaN</td>\n",
       "      <td>NaN</td>\n",
       "      <td>NaN</td>\n",
       "      <td>3/7/16</td>\n",
       "      <td>4.65</td>\n",
       "      <td>8.55</td>\n",
       "      <td>...</td>\n",
       "      <td>NaN</td>\n",
       "      <td>NaN</td>\n",
       "      <td>NaN</td>\n",
       "      <td>NaN</td>\n",
       "      <td>FAIRLY LIGHT.</td>\n",
       "      <td>Sales F.O.B. Shipping Point and/or Delivered S...</td>\n",
       "      <td>14S ABOUT STEADY, CROWN CUT SLIGHTLY LOWER.</td>\n",
       "      <td>NaN</td>\n",
       "      <td>Extra services included. Harvest curtailed by ...</td>\n",
       "      <td>PHOENIX, AZ</td>\n",
       "    </tr>\n",
       "    <tr>\n",
       "      <th>4</th>\n",
       "      <td>BROCCOLI</td>\n",
       "      <td>SALINAS-WATSONVILLE CALIFORNIA</td>\n",
       "      <td>NaN</td>\n",
       "      <td>cartons</td>\n",
       "      <td>NaN</td>\n",
       "      <td>NaN</td>\n",
       "      <td>NaN</td>\n",
       "      <td>3/8/16</td>\n",
       "      <td>4.65</td>\n",
       "      <td>8.55</td>\n",
       "      <td>...</td>\n",
       "      <td>NaN</td>\n",
       "      <td>NaN</td>\n",
       "      <td>NaN</td>\n",
       "      <td>NaN</td>\n",
       "      <td>FAIRLY LIGHT.</td>\n",
       "      <td>Sales F.O.B. Shipping Point and/or Delivered S...</td>\n",
       "      <td>ABOUT STEADY.</td>\n",
       "      <td>NaN</td>\n",
       "      <td>Extra services included. Harvest curtailed mud...</td>\n",
       "      <td>PHOENIX, AZ</td>\n",
       "    </tr>\n",
       "  </tbody>\n",
       "</table>\n",
       "<p>5 rows × 32 columns</p>\n",
       "</div>"
      ],
      "text/plain": [
       "  Commodity Name                       City Name Type  Package Variety  \\\n",
       "0       BROCCOLI  SALINAS-WATSONVILLE CALIFORNIA  NaN  cartons     NaN   \n",
       "1       BROCCOLI  SALINAS-WATSONVILLE CALIFORNIA  NaN  cartons     NaN   \n",
       "2       BROCCOLI  SALINAS-WATSONVILLE CALIFORNIA  NaN  cartons     NaN   \n",
       "3       BROCCOLI  SALINAS-WATSONVILLE CALIFORNIA  NaN  cartons     NaN   \n",
       "4       BROCCOLI  SALINAS-WATSONVILLE CALIFORNIA  NaN  cartons     NaN   \n",
       "\n",
       "  Sub Variety  Grade    Date  Low Price  High Price     ...       \\\n",
       "0         NaN    NaN  3/2/16       4.45        7.55     ...        \n",
       "1         NaN    NaN  3/3/16       5.45        7.55     ...        \n",
       "2         NaN    NaN  3/4/16       5.00        7.55     ...        \n",
       "3         NaN    NaN  3/7/16       4.65        8.55     ...        \n",
       "4         NaN    NaN  3/8/16       4.65        8.55     ...        \n",
       "\n",
       "   Purchase Lot Size  Section or Sale  Import/Export Supply Tone  \\\n",
       "0                NaN              NaN            NaN         NaN   \n",
       "1                NaN              NaN            NaN         NaN   \n",
       "2                NaN              NaN            NaN         NaN   \n",
       "3                NaN              NaN            NaN         NaN   \n",
       "4                NaN              NaN            NaN         NaN   \n",
       "\n",
       "     Demand Tone                                      Basis of Sale  \\\n",
       "0         LIGHT.  Sales F.O.B. Shipping Point and/or Delivered S...   \n",
       "1         LIGHT.  Sales F.O.B. Shipping Point and/or Delivered S...   \n",
       "2  FAIRLY LIGHT.  Sales F.O.B. Shipping Point and/or Delivered S...   \n",
       "3  FAIRLY LIGHT.  Sales F.O.B. Shipping Point and/or Delivered S...   \n",
       "4  FAIRLY LIGHT.  Sales F.O.B. Shipping Point and/or Delivered S...   \n",
       "\n",
       "                                   Market Tone  \\\n",
       "0                                          NaN   \n",
       "1                                ABOUT STEADY.   \n",
       "2                                ABOUT STEADY.   \n",
       "3  14S ABOUT STEADY, CROWN CUT SLIGHTLY LOWER.   \n",
       "4                                ABOUT STEADY.   \n",
       "\n",
       "                                Price Comment  \\\n",
       "0  occasional higher and lower. FIRST REPORT.   \n",
       "1                            occasional lower   \n",
       "2                 occasional higher and lower   \n",
       "3                                         NaN   \n",
       "4                                         NaN   \n",
       "\n",
       "                                            Comments     Rpt City  \n",
       "0                           Extra services included.  PHOENIX, AZ  \n",
       "1                           Extra services included.  PHOENIX, AZ  \n",
       "2                           Extra services included.  PHOENIX, AZ  \n",
       "3  Extra services included. Harvest curtailed by ...  PHOENIX, AZ  \n",
       "4  Extra services included. Harvest curtailed mud...  PHOENIX, AZ  \n",
       "\n",
       "[5 rows x 32 columns]"
      ]
     },
     "execution_count": 6,
     "metadata": {},
     "output_type": "execute_result"
    }
   ],
   "source": [
    "b.head(5)"
   ]
  },
  {
   "cell_type": "code",
   "execution_count": 7,
   "metadata": {
    "collapsed": false
   },
   "outputs": [
    {
     "data": {
      "text/plain": [
       "['Commodity Name',\n",
       " 'City Name',\n",
       " 'Type',\n",
       " 'Package',\n",
       " 'Variety',\n",
       " 'Sub Variety',\n",
       " 'Grade',\n",
       " 'Date',\n",
       " 'Low Price',\n",
       " 'High Price',\n",
       " 'Mostly Low',\n",
       " 'Mostly High',\n",
       " 'Season',\n",
       " 'Item Size',\n",
       " 'Color',\n",
       " 'Environment',\n",
       " 'Unit of Sale',\n",
       " 'Quality',\n",
       " 'Condition',\n",
       " 'Appearance',\n",
       " 'Storage',\n",
       " 'Shelled/Unshelled',\n",
       " 'Purchase Lot Size',\n",
       " 'Section or Sale',\n",
       " 'Import/Export',\n",
       " 'Supply Tone',\n",
       " 'Demand Tone',\n",
       " 'Basis of Sale',\n",
       " 'Market Tone',\n",
       " 'Price Comment',\n",
       " 'Comments',\n",
       " 'Rpt City']"
      ]
     },
     "execution_count": 7,
     "metadata": {},
     "output_type": "execute_result"
    }
   ],
   "source": [
    "list(b.columns.values)"
   ]
  },
  {
   "cell_type": "code",
   "execution_count": 8,
   "metadata": {
    "collapsed": true
   },
   "outputs": [],
   "source": [
    "#clean up series names formats \n",
    "old_names = [\n",
    " 'Commodity Name',\n",
    " 'City Name',\n",
    " 'Type',\n",
    " 'Package',\n",
    " 'Variety',\n",
    " 'Sub Variety',\n",
    " 'Grade',\n",
    " 'Date',\n",
    " 'Low Price',\n",
    " 'High Price',\n",
    " 'Mostly Low',\n",
    " 'Mostly High',\n",
    " 'Season',\n",
    " 'Item Size',\n",
    " 'Color',\n",
    " 'Environment',\n",
    " 'Unit of Sale',\n",
    " 'Quality',\n",
    " 'Condition',\n",
    " 'Appearance',\n",
    " 'Storage',\n",
    " 'Shelled/Unshelled',\n",
    " 'Purchase Lot Size',\n",
    " 'Section or Sale',\n",
    " 'Import/Export',\n",
    " 'Supply Tone',\n",
    " 'Demand Tone',\n",
    " 'Basis of Sale',\n",
    " 'Market Tone',\n",
    " 'Price Comment',\n",
    " 'Comments',\n",
    " 'Rpt City'] \n",
    "new_names = [\n",
    " 'commodity',\n",
    " 'city',\n",
    " 'type',\n",
    " 'package',\n",
    " 'variety',\n",
    " 'sub_variety',\n",
    " 'grade',\n",
    " 'date',\n",
    " 'low_price',\n",
    " 'high_price',\n",
    " 'mostly_low',\n",
    " 'mostly_high',\n",
    " 'season',\n",
    " 'size',\n",
    " 'color',\n",
    " 'environment',\n",
    " 'unit_of_sale',\n",
    " 'quality',\n",
    " 'condition',\n",
    " 'appearance',\n",
    " 'storage',\n",
    " 'shelled',\n",
    " 'purchase_lot_size',\n",
    " 'section',\n",
    " 'import',\n",
    " 'supply_tone',\n",
    " 'demand_tone',\n",
    " 'basis_of_sale',\n",
    " 'market_tone',\n",
    " 'Price Comment',\n",
    " 'comments',\n",
    " 'rpt_city']\n",
    "b.rename(columns=dict(zip(old_names, new_names)), inplace=True)"
   ]
  },
  {
   "cell_type": "code",
   "execution_count": 9,
   "metadata": {
    "collapsed": false
   },
   "outputs": [
    {
     "data": {
      "text/plain": [
       "commodity               0\n",
       "city                    0\n",
       "type                 8172\n",
       "package                 5\n",
       "variety              4475\n",
       "sub_variety          6733\n",
       "grade                8244\n",
       "date                    0\n",
       "low_price             215\n",
       "high_price            215\n",
       "mostly_low           1690\n",
       "mostly_high          1690\n",
       "season                  0\n",
       "size                 3775\n",
       "color                8244\n",
       "environment          8244\n",
       "unit_of_sale         8244\n",
       "quality              8244\n",
       "condition            8244\n",
       "appearance           8244\n",
       "storage              8244\n",
       "shelled              8244\n",
       "purchase_lot_size    8244\n",
       "section              8244\n",
       "import               8244\n",
       "supply_tone          6227\n",
       "demand_tone            30\n",
       "basis_of_sale          25\n",
       "market_tone           300\n",
       "Price Comment        2758\n",
       "comments               25\n",
       "rpt_city                0\n",
       "dtype: int64"
      ]
     },
     "execution_count": 9,
     "metadata": {},
     "output_type": "execute_result"
    }
   ],
   "source": [
    "#explore the data, check for values and good indicators \n",
    "b.isnull().sum()"
   ]
  },
  {
   "cell_type": "code",
   "execution_count": 10,
   "metadata": {
    "collapsed": false
   },
   "outputs": [
    {
     "data": {
      "text/plain": [
       "(8244, 32)"
      ]
     },
     "execution_count": 10,
     "metadata": {},
     "output_type": "execute_result"
    }
   ],
   "source": [
    "b.shape"
   ]
  },
  {
   "cell_type": "code",
   "execution_count": 11,
   "metadata": {
    "collapsed": false
   },
   "outputs": [],
   "source": [
    "#need to pull the month out of the 'date' column \n",
    "b['month'] = pd.DatetimeIndex(b['date']).month"
   ]
  },
  {
   "cell_type": "code",
   "execution_count": 12,
   "metadata": {
    "collapsed": false
   },
   "outputs": [
    {
     "data": {
      "text/plain": [
       "array(['BUNCH', 'CROWN CUT'], dtype=object)"
      ]
     },
     "execution_count": 12,
     "metadata": {},
     "output_type": "execute_result"
    }
   ],
   "source": [
    "#defualt variety is \"bunch\", fill all empty values with bunch instead of blank\n",
    "b['variety'].fillna('BUNCH',inplace=True)\n",
    "b['variety'].unique()"
   ]
  },
  {
   "cell_type": "code",
   "execution_count": 13,
   "metadata": {
    "collapsed": false
   },
   "outputs": [],
   "source": [
    "#convert variety strings to categories for bunch = 0, and crown cut = 1)\n",
    "b['variety'] = b.variety.map({'BUNCH':0, 'CROWN CUT':1})"
   ]
  },
  {
   "cell_type": "code",
   "execution_count": 14,
   "metadata": {
    "collapsed": false
   },
   "outputs": [
    {
     "data": {
      "text/plain": [
       "array([0, 1])"
      ]
     },
     "execution_count": 14,
     "metadata": {},
     "output_type": "execute_result"
    }
   ],
   "source": [
    "b['variety'].unique()"
   ]
  },
  {
   "cell_type": "code",
   "execution_count": 15,
   "metadata": {
    "collapsed": false
   },
   "outputs": [
    {
     "data": {
      "text/plain": [
       "array(['SALINAS-WATSONVILLE CALIFORNIA', 'SANTA MARIA CALIFORNIA',\n",
       "       'IMPERIAL & COACHELLA VALLEY CALIFORNIA',\n",
       "       'IMPERIAL, COACHELLA & PALO VERDE VALLEYS CALIFORNIA',\n",
       "       'CENTRAL SAN JOAQUIN VALLEY CALIFORNIA'], dtype=object)"
      ]
     },
     "execution_count": 15,
     "metadata": {},
     "output_type": "execute_result"
    }
   ],
   "source": [
    "#clean up the city names\n",
    "b['city'].unique()"
   ]
  },
  {
   "cell_type": "code",
   "execution_count": 16,
   "metadata": {
    "collapsed": true
   },
   "outputs": [],
   "source": [
    "b['city'] = b.city.map({'SALINAS-WATSONVILLE CALIFORNIA':'SALINAS', 'SANTA MARIA CALIFORNIA':'SANTA MARIA', 'IMPERIAL & COACHELLA VALLEY CALIFORNIA':'SOUTHERN VALLEYS', 'IMPERIAL, COACHELLA & PALO VERDE VALLEYS CALIFORNIA': 'SOUTHERN VALLEYS', 'CENTRAL SAN JOAQUIN VALLEY CALIFORNIA':'CENTRAL VALLEY'})"
   ]
  },
  {
   "cell_type": "code",
   "execution_count": 17,
   "metadata": {
    "collapsed": false
   },
   "outputs": [
    {
     "data": {
      "text/plain": [
       "array(['SALINAS', 'SANTA MARIA', 'SOUTHERN VALLEYS', 'CENTRAL VALLEY'], dtype=object)"
      ]
     },
     "execution_count": 17,
     "metadata": {},
     "output_type": "execute_result"
    }
   ],
   "source": [
    "b['city'].unique()"
   ]
  },
  {
   "cell_type": "code",
   "execution_count": 18,
   "metadata": {
    "collapsed": false
   },
   "outputs": [
    {
     "data": {
      "text/plain": [
       "low_price     10.301729\n",
       "high_price    13.303428\n",
       "dtype: float64"
      ]
     },
     "execution_count": 18,
     "metadata": {},
     "output_type": "execute_result"
    }
   ],
   "source": [
    "# what is the differece between price and \"mostly\"? \n",
    "b[['low_price', 'high_price']].mean()"
   ]
  },
  {
   "cell_type": "code",
   "execution_count": 19,
   "metadata": {
    "collapsed": false
   },
   "outputs": [
    {
     "data": {
      "text/plain": [
       "mostly_low     10.783161\n",
       "mostly_high    12.203161\n",
       "dtype: float64"
      ]
     },
     "execution_count": 19,
     "metadata": {},
     "output_type": "execute_result"
    }
   ],
   "source": [
    "#looks like it is weighted for the market? Maybe an average?\n",
    "b[['mostly_low', 'mostly_high']].mean()"
   ]
  },
  {
   "cell_type": "code",
   "execution_count": 20,
   "metadata": {
    "collapsed": false
   },
   "outputs": [],
   "source": [
    "#adding 2 coloumns with the average price for each data point, both 'mostly\" and straight price\n",
    "b['avg_price'] = b[['low_price', 'high_price']].mean(axis=1)\n",
    "b['avg_mostly_price'] = b[['mostly_low', 'mostly_high']].mean(axis=1)"
   ]
  },
  {
   "cell_type": "code",
   "execution_count": 21,
   "metadata": {
    "collapsed": false
   },
   "outputs": [
    {
     "data": {
      "text/plain": [
       "11.80257815419112"
      ]
     },
     "execution_count": 21,
     "metadata": {},
     "output_type": "execute_result"
    }
   ],
   "source": [
    "#replace all isnulls with overall average\n",
    "b['avg_price'].mean()"
   ]
  },
  {
   "cell_type": "code",
   "execution_count": 22,
   "metadata": {
    "collapsed": false
   },
   "outputs": [
    {
     "data": {
      "text/plain": [
       "11.493161428135432"
      ]
     },
     "execution_count": 22,
     "metadata": {},
     "output_type": "execute_result"
    }
   ],
   "source": [
    "b['avg_mostly_price'].mean()"
   ]
  },
  {
   "cell_type": "code",
   "execution_count": 23,
   "metadata": {
    "collapsed": false
   },
   "outputs": [],
   "source": [
    "b['avg_price'].fillna(11.80,inplace=True)"
   ]
  },
  {
   "cell_type": "code",
   "execution_count": 24,
   "metadata": {
    "collapsed": true
   },
   "outputs": [],
   "source": [
    "b['avg_mostly_price'].fillna(11.49,inplace=True)"
   ]
  },
  {
   "cell_type": "code",
   "execution_count": 25,
   "metadata": {
    "collapsed": false
   },
   "outputs": [
    {
     "data": {
      "text/plain": [
       "array(['LIGHT.', 'FAIRLY LIGHT.', 'MODERATE.', 'FAIRLY GOOD.',\n",
       "       'VERY GOOD.', 'CROWN CUT FAIRLY GOOD, BUNCHED FAIRLY LIGHT.',\n",
       "       'CROWN CUT FAIRLY GOOD, BUNCHED MODERATE.', 'VERY LIGHT.',\n",
       "       'BUNCHED LIGHT, CROWN CUT MODERATE.',\n",
       "       'CROWN CUT LIGHT, BUNCHED MODERATE.',\n",
       "       'CROWN CUT LIGHT, BUNCHED FAIRLY LIGHT.',\n",
       "       'CROWN CUT FAIRLY LIGHT, BUNCHED MODERATE.', 'GOOD.',\n",
       "       'CROWN CUT GOOD AT LOWER PRICES, OTHERS GOOD.',\n",
       "       'BUNCHED FAIRLY GOOD, CROWN CUT MODERATE.', nan,\n",
       "       'BUNCHED FAIRLY LIGHT, CROWN CUT MODERATE.',\n",
       "       'CROWNS GOOD, BUNCHED FAIRLY GOOD.',\n",
       "       'BUNCHED FAIRLY LIGHT, CROWN CUT FAIRLY GOOD AT SLIGHTLY LOWER PRICES.',\n",
       "       'CROWN CUT MODERATE, BUNCHED FAIRLY LIGHT.',\n",
       "       'CROWN CUT GOOD, BUNCHED FAIRLY GOOD.',\n",
       "       'CROWN CUT GOOD, BUNCHED MODERATE.',\n",
       "       'BUNCHED FAIRLY GOOD, CROWN CUT GOOD.',\n",
       "       'BUNCHED FAIRLY GOOD, CROWN CUT FAIRLY GOOD AT LOWER PRICES.',\n",
       "       'BUNCHED FAIRLY GOOD, CROWN CUT VERY GOOD.',\n",
       "       'BUNCHED VERY GOOD, CROWN CUT GOOD.',\n",
       "       'BUNCHED GOOD, CROWN CUT FAIRLY GOOD.',\n",
       "       'BUNCHED GOOD AT SLIGHTLY LOWER PRICES, CROWN CUT MODERATE.',\n",
       "       'CROWN CUT GOOD, OTHERS MODERATE.',\n",
       "       'CROWN CUT GOOD, OTHERS FAIRLY LIGHT.',\n",
       "       'CROWN CUT FAIRLY GOOD, OTHERS MODERATE.',\n",
       "       'BUNCHED MODERATE, CROWN CUT FAIRLY GOOD.',\n",
       "       'BUNCHED GOOD, CROWN CUT VERY GOOD.',\n",
       "       'BUNCHED MODERATE, CROWN CUT GOOD.',\n",
       "       'BUNCHED MODERATE, CROWN CUT FAIRLY GOOD AT SLIGHTLY LOWER PRICES.',\n",
       "       'BUNCHED LIGHT, CROWN CUT FAIRLY LIGHT.',\n",
       "       'BUNCHED FAIRLY GOOD, OTHERS MODERATE.',\n",
       "       'BUNCHED FAIRLY LIGHT, OTHERS FAIRLY GOOD.',\n",
       "       'BUNCHED FAIRLY LIGHT, OTHERS MODERATE.',\n",
       "       'CROWN CUT GOOD, BUNCHED FAIRLY LIGHT.',\n",
       "       'CROWN CUT EXCEEDS SUPPLY, BUNCHED VERY GOOD.',\n",
       "       'CROWN CUT VERY GOOD, BUNCHED GOOD.',\n",
       "       'BUNCHED GOOD, CROWN CUT MODERATE.',\n",
       "       'BUNCHED MODERATE, CROWN CUT FAIRLY LIGHT.',\n",
       "       'SHORT TRIM GOOD, OTHERS FAIRLY GOOD AT SLIGHTLY LOWER PRICES.',\n",
       "       'CROWN CUT FAIRLY LIGHT, BUNCHED ABOUT STEADY.',\n",
       "       'SHORT TRIM FAIRLY GOOD, OTHERS MODERATE.', 'EXCEEDS SUPPLY.',\n",
       "       'CROWN CUT FAIRLY GOOD, BUNCHED FAIRLY GOOD AT SLIGHTLY LOWER PRICES.',\n",
       "       'BUNCHED FAIRLY GOOD AT SLIGHTLY LOWER PRICES, OTHERS FAIRLY GOOD.',\n",
       "       'GOOD AT SLIGHTLY LOWER PRICES.',\n",
       "       'BUNCHED VERY GOOD, CROWN CUT FAIRLY GOOD.',\n",
       "       'BUNCHED GOOD, CROWN CUT FAIRLY LIGHT.',\n",
       "       'CROWN CUT FAIRLY GOOD AT SLIGHTLY LOWER PRICES, BUNCHED MODERATE.',\n",
       "       'BUNCHED FAIRLY LIGHT, CROWN CUT GOOD.',\n",
       "       'BUNCHED FAIRLY GOOD AT SLIGHTLY LOWER PRICES, CROWN CUT GOOD.',\n",
       "       'BUNCHED GOOD, CROWN CUT GOOD AT LOWER PRICES.',\n",
       "       'CROWN CUT VERY LIGHT, BUNCHED LIGHT.',\n",
       "       'CROWN CUT GOOD, BUNCHED FAIRLY GOOD AT SLIGHTLY LOWER PRICES.',\n",
       "       'BUNCHED FAIRLY LIGHT, CROWN CUT ABOUT STEADY.',\n",
       "       'CROWN CUT FAIRLY LIGHT, BUNCHED MIDERATE.',\n",
       "       'FAIRLY LIGHT ON BUNCHED AND LIGHT ON CROWN CUT.',\n",
       "       'GOOD ON CROWN CUT AND FAIRLY GOOD ON BUNCHED.',\n",
       "       'CROWN CUT MODERATE, BUNCHED FAIRLY LIIGHT.',\n",
       "       'BUNCHED FAIRLY LIGHT, CROWN CUT LIGHT.',\n",
       "       'FAIRLY GOOD AT SLIGHTLY LOWER PRICES.',\n",
       "       'BUNCHED FAIRLY GOOD AT LOWER PRICES, CROWN CUT FAIRLY GOOD AT SLIGHTLY LOWER PRICES.',\n",
       "       'CROWN CUT VERY GOOD, BUNCHED MODERATE.',\n",
       "       'CROWN CUT GOOD AT LOWER PRICES, BUNCHED LIGHT.',\n",
       "       'CROWN CUT FAIRLY GOOD AT SLIGHTLY LOWER PRICES, BUNCHED LIGHT.',\n",
       "       'CROWN CUT MODERATE, BUNCHED LIGHT.',\n",
       "       'CROWN CUT FAIRLY LIGHT, BUNCHED LIGHT.',\n",
       "       'CROWN CUT FAIRLY GOOD AT LOWER PRICES, BUNCHED LIGHT.',\n",
       "       'CROWN CUT GOOD, BUNCHED GOOD AT LOWER PRICES.',\n",
       "       'GOOD FOR VERY LIGHT SUPPLIES.',\n",
       "       'BUNCHED GOOD, CROWN CUT GOOD AT SLIGHTLY LOWER PRICES.',\n",
       "       'BUNCHED VERY LIGHT, CROWN CUT MODERATE.',\n",
       "       'BUNCHED VERY LIGHT, CROWN CUT LIGHT.',\n",
       "       'BUNCHED FAIRLY LIGHT, CROWNS CUT MODERATE.',\n",
       "       'CROWN CUT GOOD, BUNCHED GOOD AT SLIGHTLY LOWER PRICES.'], dtype=object)"
      ]
     },
     "execution_count": 25,
     "metadata": {},
     "output_type": "execute_result"
    }
   ],
   "source": [
    "#ugh this is a disaster :( Need to turn it into something quantifiable \n",
    "b['demand_tone'].unique()"
   ]
  },
  {
   "cell_type": "code",
   "execution_count": 26,
   "metadata": {
    "collapsed": false
   },
   "outputs": [
    {
     "data": {
      "text/plain": [
       "'\\nbreaks demand tone into 3 categories, bunched, crown cut and general based on a 5 pt scale\\nVERY LIGHT = 0\\nLIGHT = 1\\nFAIRLY LIGHT = 2\\nMODERATE = 3\\nFAIRLY GOOD = 4\\nGOOD = 5\\nVERY GOOD = 6 \\nand then fill any na with the coloumn average\\n'"
      ]
     },
     "execution_count": 26,
     "metadata": {},
     "output_type": "execute_result"
    }
   ],
   "source": [
    "'''\n",
    "breaks demand tone into 3 categories, bunched, crown cut and general based on a 5 pt scale\n",
    "VERY LIGHT = 0\n",
    "LIGHT = 1\n",
    "FAIRLY LIGHT = 2\n",
    "MODERATE = 3\n",
    "FAIRLY GOOD = 4\n",
    "GOOD = 5\n",
    "VERY GOOD = 6 \n",
    "and then fill any na with the coloumn average\n",
    "'''"
   ]
  },
  {
   "cell_type": "code",
   "execution_count": 27,
   "metadata": {
    "collapsed": false
   },
   "outputs": [],
   "source": [
    "#breaks \"bunched\" demand out of demand tone\n",
    "def f(x):\n",
    "    if 'BUNCHED VERY LIGHT' in str(x):\n",
    "        return 0\n",
    "    elif 'BUNCHED LIGHT' in str(x):\n",
    "        return 1\n",
    "    elif 'BUNCHED FAIRLY LIGHT' in str(x):\n",
    "        return 2\n",
    "    elif 'BUNCHED MODERATE' in str(x):\n",
    "        return 3\n",
    "    elif 'BUNCHED FAIRLY GOOD' in str(x):\n",
    "        return 4\n",
    "    elif 'BUNCHED GOOD' in str(x):\n",
    "        return 5\n",
    "    elif 'BUNCHED VERY GOOD' in str(x):\n",
    "        return 6\n",
    "    \n",
    "b['demand_bunch'] = b['demand_tone'].apply(f)"
   ]
  },
  {
   "cell_type": "code",
   "execution_count": 28,
   "metadata": {
    "collapsed": false
   },
   "outputs": [
    {
     "data": {
      "text/plain": [
       "3.152444870565676"
      ]
     },
     "execution_count": 28,
     "metadata": {},
     "output_type": "execute_result"
    }
   ],
   "source": [
    "b['demand_bunch'].mean()"
   ]
  },
  {
   "cell_type": "code",
   "execution_count": 29,
   "metadata": {
    "collapsed": true
   },
   "outputs": [],
   "source": [
    "b['demand_bunch'].fillna(3.15, inplace=True)"
   ]
  },
  {
   "cell_type": "code",
   "execution_count": 30,
   "metadata": {
    "collapsed": false
   },
   "outputs": [],
   "source": [
    "#breaks \"crown cut\" demand out of demand tone\n",
    "def f(x):\n",
    "    if 'CROWN CUT VERY LIGHT' in str(x):\n",
    "        return 0\n",
    "    elif 'CROWN CUT LIGHT' in str(x):\n",
    "        return 1\n",
    "    elif 'CROWN CUT FAIRLY LIGHT' in str(x):\n",
    "        return 2\n",
    "    elif 'CROWN CUT MODERATE' in str(x):\n",
    "        return 3\n",
    "    elif 'CROWN CUT FAIRLY GOOD' in str(x):\n",
    "        return 4\n",
    "    elif 'CROWN CUT GOOD' in str(x):\n",
    "        return 5\n",
    "    elif 'CROWN CUT VERY GOOD' in str(x):\n",
    "        return 6\n",
    "    \n",
    "b['demand_cc'] = b['demand_tone'].apply(f)"
   ]
  },
  {
   "cell_type": "code",
   "execution_count": 31,
   "metadata": {
    "collapsed": false,
    "scrolled": true
   },
   "outputs": [
    {
     "data": {
      "text/plain": [
       "3.560344827586207"
      ]
     },
     "execution_count": 31,
     "metadata": {},
     "output_type": "execute_result"
    }
   ],
   "source": [
    "b['demand_cc'].mean()"
   ]
  },
  {
   "cell_type": "code",
   "execution_count": 32,
   "metadata": {
    "collapsed": true
   },
   "outputs": [],
   "source": [
    "b['demand_cc'].fillna(3.56, inplace=True)"
   ]
  },
  {
   "cell_type": "code",
   "execution_count": 33,
   "metadata": {
    "collapsed": true
   },
   "outputs": [],
   "source": [
    "#quanitfies demand tone generally\n",
    "def f(x):\n",
    "    if 'VERY LIGHT' in str(x):\n",
    "        return 0\n",
    "    elif 'LIGHT' in str(x):\n",
    "        return 1\n",
    "    elif 'FAIRLY LIGHT' in str(x):\n",
    "        return 2\n",
    "    elif 'MODERATE' in str(x):\n",
    "        return 3\n",
    "    elif 'FAIRLY GOOD' in str(x):\n",
    "        return 4\n",
    "    elif 'GOOD' in str(x):\n",
    "        return 5\n",
    "    elif 'VERY GOOD' in str(x):\n",
    "        return 6\n",
    "    \n",
    "b['demand_general'] = b['demand_tone'].apply(f)"
   ]
  },
  {
   "cell_type": "code",
   "execution_count": 34,
   "metadata": {
    "collapsed": false
   },
   "outputs": [
    {
     "data": {
      "text/plain": [
       "2.72326121501039"
      ]
     },
     "execution_count": 34,
     "metadata": {},
     "output_type": "execute_result"
    }
   ],
   "source": [
    "b['demand_general'].mean()"
   ]
  },
  {
   "cell_type": "code",
   "execution_count": 35,
   "metadata": {
    "collapsed": true
   },
   "outputs": [],
   "source": [
    "b['demand_general'].fillna(2.72, inplace=True)"
   ]
  },
  {
   "cell_type": "code",
   "execution_count": 36,
   "metadata": {
    "collapsed": false
   },
   "outputs": [
    {
     "data": {
      "text/plain": [
       "(8244, 38)"
      ]
     },
     "execution_count": 36,
     "metadata": {},
     "output_type": "execute_result"
    }
   ],
   "source": [
    "b.shape"
   ]
  },
  {
   "cell_type": "code",
   "execution_count": 37,
   "metadata": {
    "collapsed": false
   },
   "outputs": [
    {
     "data": {
      "text/plain": [
       "array([nan, 'ABOUT STEADY.', '14S ABOUT STEADY, CROWN CUT SLIGHTLY LOWER.',\n",
       "       'CROWN CUT HIGHER, OTHERS ABOUT STEADY.', 'MUCH HIGHER.',\n",
       "       '14S SLIGHTLY LOWER, CROWN CUT ABOUT STEADY.', 'SLIGHTLY LOWER.',\n",
       "       'CROWN CUT SLIGHTLY LOWER, BUNCHED ABOUT STEADY.',\n",
       "       'BUNCHED SLIGHTLY LOWER, CROWN CUT LOWER.',\n",
       "       'SHORT TRIM MUCH LOWER, OTHERS LOWER.', 'SLIGHTLY HIGHER.',\n",
       "       'BUNCHED SLIGHTLY HIGHER, CROWN CUT ABOUT STEADY.',\n",
       "       'CROWN CUT SLIGHTLY HIGHER, BUNCHED ABOUT STEADY.',\n",
       "       'BUNCHED SLIGHTLY LOWER, CROWN CUT ABOUT STEADY.',\n",
       "       'CROWN CUT SHORT TRIM SLIGHTLY HIGHER, OTHERS ABOUT STEADY.',\n",
       "       'BUNCHED HIGHER, CROWN CUT MUCH HIGHER.',\n",
       "       'CROWN CUT HIGHER, BUNCHED LOWER.',\n",
       "       'CROWN CUT HIGHER, BUNCHED ABOUT STEADY.', 'HIGHER.',\n",
       "       'BUNCHED HIGHER, CROWN CUT ABOUT STEADY.',\n",
       "       'BUNCHED HIGHER, CROWN CUT SLIGHTLY LOWER.', 'LOWER.',\n",
       "       'CROWN CUT LOWER, BUNCHED ABOUT STEADY.',\n",
       "       'BUNCHED LOWER, OTHERS ABOUT STEADY.',\n",
       "       'CROWN CUT SLIGHTLY LOWER, OTHERS ABOUT STEADY.',\n",
       "       'BUNCHED LOWER, CROWN CUT SLIGHTLY LOWER.',\n",
       "       'CROWN CUT LOWER, BUNCHED SLIGHTLY HIGHER.',\n",
       "       'SHORT TRIM ABOUT STEADY, OTHERS SLIGHTLY LOWER.',\n",
       "       'BUNCHED SLIGHTLY HIGHER, OTHERS ABOUT STEADY.',\n",
       "       'BUNCHED AND SHORT TRIM HIGHER, CROWN CUT LOWER.',\n",
       "       'CROWN CUT LOWER, BUNCHED SLIGHTLY LOWER.',\n",
       "       'CROWN CUT LOWER, OTHERS SLIGHTLY LOWER.',\n",
       "       'BUNCHED ABOUT STEADY, OTHERS SLIGHTLY LOWER.',\n",
       "       'BUNCHED HIGHER, CROWN CUT SLIGHTLY HIGHER.',\n",
       "       'CROWN CUT HIGHER, BUNCHED SLIGHTLY HIGHER.',\n",
       "       'BUNCHED SLIGHTLY LOWER, OTHERS LOWER.',\n",
       "       'CROWNS SLIGHTLY HIGHER, BUNCHED ABOUT STEADY.',\n",
       "       'BUNCHED SLIGHTLY HIGHER, CROWNS ABOUT STEADY.',\n",
       "       'CROWN CUT ABOUT STEADY, BUNCHED SLIGHTLY HIGHER.',\n",
       "       'BUNCHED LOWER, CROWN CUT ABOUT STEADY.',\n",
       "       'BUNCHED SLIGHTLY LOWER, CROWN CUT MUCH LOWER.',\n",
       "       'BUNCHED LOWER, CROWN CUT MUCH LOWER.',\n",
       "       '14S SLIGHTLY LOWER, CROWN CUT LOWER.',\n",
       "       'CROWN CUT MUCH HIGHER, BUNCHED SLIGHTLY HIGHER.',\n",
       "       'BUNCHED SLIGHTLY HIGHER, CROWN CUT HIGHER.',\n",
       "       'BUNCHED ABOUT STEADY, CROWN CUT SLIGHTLY HIGHER.',\n",
       "       'BUNCHED ABOUT STEADY, CROWN CUT LOWER.',\n",
       "       'BUNCHED ABOUT STEADY, CROWN CUT SLIGHTLY LOWER.',\n",
       "       'BUNCHED ABOUT STEADY, CROWN CUT SLIGHTLY HIGHER, SHORT TRIM HIGHER.',\n",
       "       'BUNCHED SLIGHTLY HIGHER, CROWN CUT ABOUT STEADY, SHORT TRIM SLIGHTLY LOWER.',\n",
       "       'BUNCHED SLIGHTLY HIGHER, CROWN CUT LOWER.',\n",
       "       'CROWN CUT LOWER BUNCHED ABOUT STEADY.',\n",
       "       'CROWN CUTS ABOUT STEADY, OTHERS LOWER.',\n",
       "       'BUNCHED 18S SLIGHTLY HIGHER, OTHERS ABOUT STEADY.',\n",
       "       'CROWNS ABOUT STEADY, OTHERS HIGHER.',\n",
       "       'CROWN CUT SLIGHTLY HIGHER, OTHERS LOWER.',\n",
       "       'ABOUT STEADY.CROWN CUT HIGHER, OTHERS ABOUT STEADY.',\n",
       "       'SHORT TRIM SLIGHTLY LOWER, OTHERS ABOUT STEADY.',\n",
       "       'CROWN CUT SLIGHTLY HIGHER, OTHERS ABOUT STEADY.',\n",
       "       'BUNCHED SLIGHTLY LOWER, OTHERS ABOUT STEADY.',\n",
       "       'CROWN CUT SLIGHTLY HIGHER, BUNCHED SLIGHTLY LOWER.',\n",
       "       'CROWN CUT LOWER.', 'BUNCHED LOWER, CROWN CUT SLIGHTLY HIGHER.',\n",
       "       'BUNCHED SLIGHTLY HIGHER, CROWN CUT SLIGHTLY LOWER.',\n",
       "       'CROWN CUT ABOUT STEADY.',\n",
       "       'CROWN CUT MUCH LOWER, BUNCHED ABOUT STEADY.',\n",
       "       'HEARTS SLIGHTLY HIGHER, BUNCHED LOWER.',\n",
       "       'HEARTS HIGHER, BUNCHED ABOUT STEADY.',\n",
       "       'BUNCHED HIGHER, CROWN CUT LOWER.',\n",
       "       'CROWN CUT HIGHER, BUNCHED SLIGHTLY LOWER.',\n",
       "       'BUNCHED HIGHER, OTHERS SLIGHTLY HIGHER.',\n",
       "       'SHORT TRIM ABOUT STEADY, OTHERS HIGHER.',\n",
       "       'SHORT TRIM HIGHER, OTHERS SLIGHTLY LOWER.',\n",
       "       'BUNCHED SLIGHTLY LOWER, CROWN CUT SLIGHTLY HIGHER.',\n",
       "       'CROWN CUT LOWER, SHORT TRIM SLIGHTLY LOWER, BUNCHED ABOUT STEADY.',\n",
       "       'BUNCHED ABOUT STEADY, OTHERS HIGHER.',\n",
       "       'CROWN CUT SLIGHTLY HIGHER, OTHERS HIGHER.',\n",
       "       'BUNCHED ABOUT STEADY, OTHERS LOWER.',\n",
       "       'SHORT TRIM SLIGHTLY HIGHER, OTHERS ABOUT STEADY.',\n",
       "       'BUNCHED SLIGHTLY LOWER, OTHERS SLIGHTLY HIGHER.',\n",
       "       'CROWN CUT ABOUT STEADY, OTHERS SLIGHTLY HIGHER.',\n",
       "       'SHORT TRIM HIGHER, OTHERS ABOUT STEADY.',\n",
       "       'BUNCHED HIGHER, OTHERS ABOUT STEADY.', 'SHORT TRIM ABOUT STEADY.',\n",
       "       'BUNCHED HIGHER, CROWN CUT SLIGHTLY HIGHER, SHORT TRIM ABOUT STEADY.',\n",
       "       'BUNCHED LOWER, CROWN CUT SLIGHTLY LOWER, SHORT TRIM HIGHER.',\n",
       "       'CROWN CUT MODERATE, BUNCHED SLIGHTLY LOWER.',\n",
       "       'BUNCHED MUCH LOWER, CROWN CUT ABOUT STEADY.',\n",
       "       'SHORT TRIM ABOUT STEADY, OTHERS LOWER.',\n",
       "       'BUNCHED LOWER, CROWN CUT HIGHER.', 'STEADY.',\n",
       "       'CROWNS MUCH LOWER, OTHERS LOWER.',\n",
       "       'BUNCHED SLIGHTLY HIGHER, CROWN CUT STEADY.',\n",
       "       'CROWN CUT SLIGHTLY HIGHER, BUNCHED STEADY.',\n",
       "       'CROWN CUT HIGHER, BUCHED SLIGHTLY HIGHER.',\n",
       "       'CROWN CUT ABOUT STEADY, BUNCHED HIGHER.',\n",
       "       'SHORT TRIM HIGHER, CROWN CUT SLIGHTLY HIGHER, BUNCHED SLIGHTLY LOWER.',\n",
       "       'SHORT TRIM SLIGHTLY HIGHER, CROWN CUT ABOUT STEADY, BUNCHED SLIGHTLY LOWER.',\n",
       "       'BUNCHED SLIGHTLY LOWER, CROWN CUT LOWER, SHORT TRIM ABOUT STEADY.',\n",
       "       'SHORT TRIM ABOUT STEADY, OTHERS SLIGHTLY HIGHER.',\n",
       "       'CROWN CUT LOWER, OTHERS ABOUT STEADY.',\n",
       "       'BUNCHED LOWER, CROWNS SLIGHTLY LOWER.',\n",
       "       'HEARTS LOWER, BUNCHED ABOUT STEADY.',\n",
       "       'CROWN CUT ABOUT STEADY, BUNCHED LOWER.',\n",
       "       'BUNCHED HIGHER, HEARTS SLIGHTLY HIGHER.',\n",
       "       'BUNCHED LOWER, OTHERS SLIGHTLY LOWER.',\n",
       "       'CROWN CUT HIGHER, BUNCHED MUCH HIGHER.',\n",
       "       'BUNCHED MUCH LOWER, CROWN CUT LOWER.',\n",
       "       'CROWN CUTS SLIGHTLY LOWER, OTHERS ABOUT STEADY.',\n",
       "       'CROWNS HIGHER, OTHERS SLIGHTLY HIGHER.',\n",
       "       '14S AND 18S SLIGHTLY HIGHER, CROWNS ABOUT STEADY.',\n",
       "       'CROWN CUT SLIGHTLY LOWER AND OTHERS STEADY.',\n",
       "       '14-18S SLIGHTLY HIGHER AND CROWN CUT STEADY.',\n",
       "       'CROWN CUT LOWER AND OTHERS STEADY.',\n",
       "       'BUNCHED LOWER AND CROWN CUT STEADY.',\n",
       "       'CROWN CUT LOWER AND OTHERS ABOUT STEADY.',\n",
       "       '14S HIGHER AND CROWN CUT SLIGHTLY HIGHER.',\n",
       "       'CROWNS SLIGHTLY HIGHER, OTHERS ABOUT STEADY.',\n",
       "       'CROWN CUT HIGHER, BUNCHED HIGHER.',\n",
       "       'CROWN CUT MUCH HIGHER, BUNCHED HIGHER.',\n",
       "       'BUNCHED MUCH HIGHER, CROWN CUT HIGHER.',\n",
       "       'CROWN SLIGHTLY HIGHER, BUNCHED ABOUT STEADY.',\n",
       "       'BUNCHED 14S ABOUT STEADY, OTHERS SLIGHTLY HIGHER.', 'MUCH LOWER.',\n",
       "       'CROWN CUT HIGHER.', 'CROWN CUT LOWER, BUNCHED HIGHER.',\n",
       "       'BUNCHED SLIGHTLY LOWER, CROWN CUT HIGHER.',\n",
       "       'BUNCHED ABOUT STEADY, CROWN CUT HIGHER.',\n",
       "       'CROWN CUT ABOUT STEADY, BUNCHED SLIGHTLY LOWER.',\n",
       "       'CROWN CUT SLIGHTLY HIGHER, BUNCHED HIGHER.',\n",
       "       'SHORT TRIM LOWER, OTHERS ABOUT STEADY.',\n",
       "       'BUNCHED SLIGHTLY HIGHER, BUNCHED ABOUT STEADY.',\n",
       "       'BUNCHED LOWER, HEARTS SLIGHTLY LOWER.',\n",
       "       'CROWEN CUT SLIGHTLY HIGHER, BUNCHED ABOUT STEADY.',\n",
       "       'BUNCHED MODERATE, CROWN CUT LOWER.',\n",
       "       'CROWN CUT SLIGHTLY LOWER, BUNCHED LOWER.',\n",
       "       'SHORT TRIM CROWN CUT LOWER, BUNCHED SLIGHTLY LOWER, OTHERS ABOUT STEADY.',\n",
       "       '24S LOWER, HEARTS ABOUT STEADY.',\n",
       "       'CROWNS ABOUT STEADY, OTHERS SLIGHTLY LOWER.',\n",
       "       'CROWN CUT ABOUT STEADY, OTHERS LOWER.',\n",
       "       'CROWNS SLIGHTLY LOWER, BUNCHED ABOUT STEADY.',\n",
       "       'CROWNS ABOUT STEADY, BUNCHED SLIGHTLY LOWER.',\n",
       "       'SHORT TRIM CROWN CUT SLIGHTLY HIGHER, OTHERS ABOUT STEADY.'], dtype=object)"
      ]
     },
     "execution_count": 37,
     "metadata": {},
     "output_type": "execute_result"
    }
   ],
   "source": [
    "#blerg, mark tone is actually worse than demand tone\n",
    "b['market_tone'].unique()"
   ]
  },
  {
   "cell_type": "code",
   "execution_count": 38,
   "metadata": {
    "collapsed": false
   },
   "outputs": [
    {
     "data": {
      "text/plain": [
       "'\\nbreaks market tone into 3 categories, bunched, crown cut and general based on a 5 pt scale\\nLOWER = 0\\nSLIGHTLY LOWER = 1\\nSTEADY = 2\\nSLIGHTLY HIGHER = 3\\nHIGHER = 4\\nMUCH HIGHER = 5\\nfill any na with average for each column\\n'"
      ]
     },
     "execution_count": 38,
     "metadata": {},
     "output_type": "execute_result"
    }
   ],
   "source": [
    "'''\n",
    "breaks market tone into 3 categories, bunched, crown cut and general based on a 5 pt scale\n",
    "LOWER = 0\n",
    "SLIGHTLY LOWER = 1\n",
    "STEADY = 2\n",
    "SLIGHTLY HIGHER = 3\n",
    "HIGHER = 4\n",
    "MUCH HIGHER = 5\n",
    "fill any na with average for each column\n",
    "'''"
   ]
  },
  {
   "cell_type": "code",
   "execution_count": 39,
   "metadata": {
    "collapsed": false
   },
   "outputs": [],
   "source": [
    "#breaks out \"market tone\" for \"bunched\"\n",
    "def f(x):\n",
    "    if 'BUNCHED LOWER' in str(x):\n",
    "        return 0\n",
    "    elif 'BUNCHED SLIGHTLY LOWER' in str(x):\n",
    "        return 1\n",
    "    elif 'BUNCHED STEADY' in str(x):\n",
    "        return 2\n",
    "    elif 'BUNCHED SIGHTLY HIGHER' in str(x):\n",
    "        return 3\n",
    "    elif 'BUNCHED HIGHER' in str(x):\n",
    "        return 4\n",
    "    elif 'BUNCHED MUCH HIGHER' in str(x):\n",
    "        return 5\n",
    "    \n",
    "b['market_tone_bunch'] = b['market_tone'].apply(f)\n"
   ]
  },
  {
   "cell_type": "code",
   "execution_count": 40,
   "metadata": {
    "collapsed": false
   },
   "outputs": [
    {
     "data": {
      "text/plain": [
       "1.6294718909710393"
      ]
     },
     "execution_count": 40,
     "metadata": {},
     "output_type": "execute_result"
    }
   ],
   "source": [
    "b['market_tone_bunch'].mean()"
   ]
  },
  {
   "cell_type": "code",
   "execution_count": 41,
   "metadata": {
    "collapsed": true
   },
   "outputs": [],
   "source": [
    "b['market_tone_bunch'].fillna(1.62, inplace=True)"
   ]
  },
  {
   "cell_type": "code",
   "execution_count": 42,
   "metadata": {
    "collapsed": true
   },
   "outputs": [],
   "source": [
    "#breaks out \"market tone\" for \"crown cut\"\n",
    "def f(x):\n",
    "    if 'CROWN CUT LOWER' in str(x):\n",
    "        return 0\n",
    "    elif 'CROWN CUT SLIGHTLY LOWER' in str(x):\n",
    "        return 1\n",
    "    elif 'CROWN CUT STEADY' in str(x):\n",
    "        return 2\n",
    "    elif 'CROWN CUT SIGHTLY HIGHER' in str(x):\n",
    "        return 3\n",
    "    elif 'CROWN CUT HIGHER' in str(x):\n",
    "        return 4\n",
    "    elif 'CROWN CUT MUCH HIGHER' in str(x):\n",
    "        return 5\n",
    "    \n",
    "b['market_tone_cc'] = b['market_tone'].apply(f)"
   ]
  },
  {
   "cell_type": "code",
   "execution_count": 43,
   "metadata": {
    "collapsed": false,
    "scrolled": true
   },
   "outputs": [
    {
     "data": {
      "text/plain": [
       "1.6404341926729986"
      ]
     },
     "execution_count": 43,
     "metadata": {},
     "output_type": "execute_result"
    }
   ],
   "source": [
    "b['market_tone_cc'].mean()"
   ]
  },
  {
   "cell_type": "code",
   "execution_count": 44,
   "metadata": {
    "collapsed": true
   },
   "outputs": [],
   "source": [
    "b['market_tone_cc'].fillna(1.64,inplace=True)"
   ]
  },
  {
   "cell_type": "code",
   "execution_count": 45,
   "metadata": {
    "collapsed": true
   },
   "outputs": [],
   "source": [
    "#quanitfies general market tone\n",
    "def f(x):\n",
    "    if 'LOWER' in str(x):\n",
    "        return 0\n",
    "    elif 'SLIGHTLY LOWER' in str(x):\n",
    "        return 1\n",
    "    elif 'STEADY' in str(x):\n",
    "        return 2\n",
    "    elif 'SIGHTLY HIGHER' in str(x):\n",
    "        return 3\n",
    "    elif 'HIGHER' in str(x):\n",
    "        return 4\n",
    "    elif 'MUCH HIGHER' in str(x):\n",
    "        return 5\n",
    "    \n",
    "b['market_tone_general'] = b['market_tone'].apply(f)"
   ]
  },
  {
   "cell_type": "code",
   "execution_count": 46,
   "metadata": {
    "collapsed": false
   },
   "outputs": [
    {
     "data": {
      "text/plain": [
       "1.701913393756294"
      ]
     },
     "execution_count": 46,
     "metadata": {},
     "output_type": "execute_result"
    }
   ],
   "source": [
    "b['market_tone_general'].mean()"
   ]
  },
  {
   "cell_type": "code",
   "execution_count": 47,
   "metadata": {
    "collapsed": false
   },
   "outputs": [],
   "source": [
    "b['market_tone_general'].fillna(1.70,inplace=True)"
   ]
  },
  {
   "cell_type": "code",
   "execution_count": 48,
   "metadata": {
    "collapsed": false
   },
   "outputs": [
    {
     "data": {
      "text/plain": [
       "(8244, 41)"
      ]
     },
     "execution_count": 48,
     "metadata": {},
     "output_type": "execute_result"
    }
   ],
   "source": [
    "b.shape"
   ]
  },
  {
   "cell_type": "code",
   "execution_count": 49,
   "metadata": {
    "collapsed": false,
    "scrolled": false
   },
   "outputs": [
    {
     "data": {
      "text/plain": [
       "array(['Extra services included.',\n",
       "       'Extra services included. Harvest curtailed by rain and wet fields.',\n",
       "       'Extra services included. Harvest curtailed muddy fields.',\n",
       "       'Extra services included. Harvest curtailed by market conditions.',\n",
       "       'Extra services included. Wide range in price.',\n",
       "       'Extra services included. Many present shipments from prior bookings and/or previous commitments',\n",
       "       'Extra services included. Wide range in price. Many present shipments from prior bookings and/or previous commitments',\n",
       "       'Extra services included. Wide range in quality.',\n",
       "       'Extra services included. Wide range in quality and price.',\n",
       "       'Extra services included. Wide range in quality. Harvest curtailed by rain and wet fields.',\n",
       "       'Extra services included. Wide range in quality. Harvest curtailed by muddy fields.',\n",
       "       nan,\n",
       "       'Extra services included. Revised District. Palo Verde Valley shippers finished for the season.',\n",
       "       'Extra services included. Crop progress slowed by unseasonably cold temperatures.',\n",
       "       'Extra services included. Wide range in quality. Harvest delayed approximately 11:30 am due to ice in fields.',\n",
       "       'Extra services included. Wide range in price and quality.',\n",
       "       'Extra services included. Wide range in price and quality. Harvest curtailed due to rain and wet fields.',\n",
       "       'Extra services included. Wide range in price and quality. Harvest curtailed due to market conditions.',\n",
       "       'Extra services included. Wide range in price and quality. Harvest curtailed by market conditions.',\n",
       "       'Extra services included. Many present shipments from prior bookings and/or previous commitments.',\n",
       "       'Extra services included. Most present shipments of Crown Cut from prior bookings and/or previous commitments.',\n",
       "       'Extra services included. Wide range in price. Some harvest curtailed by rain and wet fields.',\n",
       "       'Extra services included. Most present shipments from prior bookings and/or previous commitments.',\n",
       "       'Extra services included. Most present shipments from prior bookings and/or previous commitments at lower prices',\n",
       "       'Extra services included. Wide range in price. Most present shipments from prior bookings and/or previous commitments at lower prices',\n",
       "       'Extra services included. Wide range in price. Most present shipments of bunched from prior bookings and/or previous commitments at lower prices',\n",
       "       'Extra services included. Wide range in price. Some harvesting curtailed due to field heat conditions.Many present shipments from previous commitments.',\n",
       "       'Extra services included. Wide range in price. Many present shipments from previous commitments.',\n",
       "       'Extra services included. Wide range in price. Most present shipments from previous commitments.',\n",
       "       'Extra services included. Harvest curtailed by unseasonably hot temperatures. Wide range in quality and price.',\n",
       "       'Extra services included. Harvest curtailed by unseasonably hot temperatures. Wide range in quality and price. Most present shipments from prior bookings and/or previous commitments.',\n",
       "       'Extra services included. Wide range in quality and price. Most present shipments from prior bookings and/or previous commitments.',\n",
       "       'Extra services included. Harvest curtailed by rain. Wide range in quality and price. Most present shipments from prior bookings and/or previous commitments.',\n",
       "       'Extra services included. Harvest curtailed by mud and wet fields. Wide range in quality and price. Most present shipments from prior bookings and/or previous commitments.',\n",
       "       'Extra services included. Harvest curtailed by rain and wet fields. Wide range in quality and price. Most present shipments from prior bookings and/or previous commitments.',\n",
       "       'Extra services included. Wide range in quality and price. Most present shipments of Crown Cut from prior bookings and/or previous commitments.',\n",
       "       'Extra services included. Wide range in quality. Harvest curtailed by unseasonably cold temperatures.',\n",
       "       'Extra services included. Bunched supplies light and in few hands.',\n",
       "       'Extra services included. Harvest delayed by ice in fields until approximately 11:00 a.m.',\n",
       "       'Extra services included. Harvest heavily curtailed by rain, wet fields and freezing temperatures',\n",
       "       'Extra services included. Harvest curtailed by ice in fields until approximately noon. Many present shipments from prior bookings and/or previous commitments at lower prices.',\n",
       "       'Extra services included. Wide range in quality. Harvest delayed by ice in fields until approximately 9:30 a.m. Most present shipments from prior bookings and/or previous commitments at lower prices.',\n",
       "       'Extra services included. Wide range in quality. Most present shipments from prior bookings and/or previous commitments.',\n",
       "       'Extra services included. Wide range in quality. Most present shipments from prior bookings and/or previous commitments at lower prices.',\n",
       "       'Extra services included. Wide range in price and quality. Most present shipments from prior bookings and/or previous commitments at lower prices.',\n",
       "       'Extra services included. Wide range in quality. Some shippers harvest curtailed due to market conditions.',\n",
       "       'Extra services included. Wide range in quality. Harvest curtailed due to market conditions.',\n",
       "       'Extra services included. Wide range in quality and Crown Cut price.',\n",
       "       'Extra services included. Wide range in quality. Supplies in few hands.',\n",
       "       'Extra services included. Wide range in price. Many present shipments from prior bookings and/or previous commitments.',\n",
       "       'Extra services included. Harvest slowed by muddy conditions. Wide range in price. Many present shipments from prior bookings and/or previous commitments.',\n",
       "       'Extra services included. Many present shipments from prior bookings and/or previous commitments at lower prices',\n",
       "       'Extra services included. Harvest curtailed by unseasonably hot temperatures. Many present shipments from prior bookings and/or previous commitments at lower prices.',\n",
       "       'Extra services included. Many present shipments from prior bookings and/or previous commitments at lower prices.',\n",
       "       'Extra services included. Wide range in quality. Many present shipments from prior bookings and/or previous commitments.',\n",
       "       'Extra services included. Wide range in price and quality. Many present shipments from prior bookings and/or previous commitments.',\n",
       "       'Extra services included. Wide range in price and quality. Most present shipments from prior bookings and/or previous commitments.',\n",
       "       'Extra services included. Wide range in quality. Some shippers curtailing harvest due to market conditions',\n",
       "       'Extra services included. Wide range in quality. Most present shipments of Crown Cut from prior bookings and/or previous commitments.',\n",
       "       'Extra services included. Wide range in quality. Most present shipments of from prior bookings and/or previous commitments at lower prices.',\n",
       "       'Extra services included. Wide range in quality. Most present shipments of Crown Cut from prior bookings and/or previous commitments at lower prices.',\n",
       "       'Extra services included. Wide range in quality. Many present shipments of Crown Cut from prior bookings and/or previous commitments.',\n",
       "       'Extra services included. Wide range in qualityand price.',\n",
       "       'Extra services included. Wide range in quality. Some harvest curtailed due to unseasonably hot termperatures.',\n",
       "       'Extra services included. Very wide range in quality.',\n",
       "       'Extra services included. Harvesting curtailed by unseasonably hot temperatures.',\n",
       "       'Extra services included. Most shippers curtailing some harvesting due to market conditions.',\n",
       "       'Extra services included',\n",
       "       'Extra services included. Wide range in quality. Many present shipments from prior bookings and/or previous commitments at lower prices.',\n",
       "       'Extra services included. Wide range in quality. Harvest curtailed by ice in fields. Many present shipments from prior bookings and/or previous commitments.',\n",
       "       'Extra services included. Wide range in quality. Harvest delayed due to ice in the fields. Many present shipments from prior bookings and/or previous commitments.',\n",
       "       'Extra services included. Wide range in quality. Harvest curtailed by market conditions.',\n",
       "       'Extra services included. Wide range in quality. Harvest curtailed by ice in fields.',\n",
       "       'Extra services included. Wide range in quality. Harvest curtailed by ice in fields until about noon..',\n",
       "       'Extra services included. Wide range in quality. Harvest curtailed by ice in fields until about 1:30 p.m.',\n",
       "       'Extra services included. Wide range in quality. Some shippers transitioning product to desert shipping points.',\n",
       "       'Extra services included. Wide range in quality. Most shippers transitioning product to desert shipping points.',\n",
       "       'Extra services included. Wide range in quality and price. Harvest curtailed by rain and wet fields.',\n",
       "       'Extra services included. Very wide range in price.',\n",
       "       'Extra services included. Harvest curtailed by heavy rain and wet fields.',\n",
       "       'Extra services included. Harvest curtailed by market conditions. Some sales booked open with price to be established later.',\n",
       "       'Extra services included. Harvest delayed until approximatley 10:00 am by ice in fields.',\n",
       "       'Extra services included. Prices represent very few new sales.',\n",
       "       'Extra services included. Harvest delayed by ice in fields until approximately 10:30 am.',\n",
       "       'Extra services included. Harvest delayed by ice in fields until approximately 10:00 am.',\n",
       "       'Extra services included. Harvest delayed by ice in fields until approximately 11:00 am.',\n",
       "       'Extra services included. Wide range in price and appearance. Many present shipments from prior bookings and/or previous commitments at lower prices.',\n",
       "       'Extra services included. Wide range in price and appearance. Harvest delayed by ice in fields. Many present shipments from prior bookings and/or previous commitments at lower prices.',\n",
       "       'Extra services included. Wide range in appearance. Harvest delayed by wind and freezing temperatures until approx 11:00 am. Many present shipments from prior bookings and/or previous commitments',\n",
       "       'Extra services included. Wide range in appearance. Harvest delayed by freezing temperatures until approx 9:30 am. Many present shipments from prior bookings and/or previous commitments',\n",
       "       'Extra services included. Wide range in price and appearance.',\n",
       "       'Extra services included. Wide range in appearance.',\n",
       "       'Extra services included. Harvest curtailed by rain and wet fields in scattered growing areas.',\n",
       "       'Extra services included. Wide range in price and appearance. Harvest curtailed by rain and wet fields.',\n",
       "       'Extra services included. Wide range in appearance. Harvest curtailed by market conditions.',\n",
       "       'Extra services included. Wide range in size.',\n",
       "       'Extra services included. Wide range in size. Harvest curtailed by market conditions.',\n",
       "       'Extra services included. Wide range in size. Harvest curtailed by market conditions. Some shipments booked with price to be established later.',\n",
       "       'Extra services included. Wide range in quality and size. Harvest curtailed by rain and wet fields.',\n",
       "       'Extra services included. Wide range in quality. Harvest curtailed by heavy rain and wet fields.',\n",
       "       'Extra services included. Wide range in quality. Harvest slowed by wet fields.',\n",
       "       'Extra services included. Wide range in quality. Harvest slowed by showers.',\n",
       "       'Extra services included. Wide range in quality. Harvest curtailed due to labor released by unseasonably hot temperatures reaching 90-96 degrees.',\n",
       "       'Extra services included. Wide range in quality. Harvest curtailed by work force leaving early due to high temperatures.',\n",
       "       'Extra services included. Wide range in quality. Market curtailed by market conditions.',\n",
       "       'Extra services included. Harvest delayed until 10:00 am by ice in fields.'], dtype=object)"
      ]
     },
     "execution_count": 49,
     "metadata": {},
     "output_type": "execute_result"
    }
   ],
   "source": [
    "#this is where notes on weather conditions lives. Almost every line has a comment\n",
    "b['comments'].unique()"
   ]
  },
  {
   "cell_type": "code",
   "execution_count": 50,
   "metadata": {
    "collapsed": true
   },
   "outputs": [],
   "source": [
    "'''\n",
    "to capture weather data out of the comments section\n",
    "Rain or mud = 0\n",
    "hot = 1\n",
    "freezing or ice = 2\n",
    "'''\n",
    "def f(x):\n",
    "    if 'rain' in str(x):\n",
    "        return 0\n",
    "    elif 'wet' in str(x):\n",
    "        return 0\n",
    "    elif 'muddy' in str(x):\n",
    "        return 0\n",
    "    elif 'hot' in str(x):\n",
    "        return 1\n",
    "    elif 'high temperatures' in str(x):\n",
    "        return 1\n",
    "    elif 'freezing' in str(x):\n",
    "        return 2\n",
    "    elif 'ice' in str(x):\n",
    "        return 2\n",
    "    elif 'cold' in str(x):\n",
    "        return 2\n",
    "    \n",
    "b['weather'] = b['comments'].apply(f)"
   ]
  },
  {
   "cell_type": "code",
   "execution_count": 51,
   "metadata": {
    "collapsed": false
   },
   "outputs": [
    {
     "data": {
      "text/plain": [
       "25"
      ]
     },
     "execution_count": 51,
     "metadata": {},
     "output_type": "execute_result"
    }
   ],
   "source": [
    "b['weather'].isnull().sum()"
   ]
  },
  {
   "cell_type": "code",
   "execution_count": 52,
   "metadata": {
    "collapsed": false
   },
   "outputs": [
    {
     "data": {
      "text/plain": [
       "1.9712860445309648"
      ]
     },
     "execution_count": 52,
     "metadata": {},
     "output_type": "execute_result"
    }
   ],
   "source": [
    "b['weather'].mean()"
   ]
  },
  {
   "cell_type": "code",
   "execution_count": 53,
   "metadata": {
    "collapsed": true
   },
   "outputs": [],
   "source": [
    "b['weather'].fillna(1.97,inplace=True)"
   ]
  },
  {
   "cell_type": "code",
   "execution_count": 54,
   "metadata": {
    "collapsed": false,
    "scrolled": true
   },
   "outputs": [
    {
     "data": {
      "text/plain": [
       "array(['cartons', '20 lb cartons loose', nan], dtype=object)"
      ]
     },
     "execution_count": 54,
     "metadata": {},
     "output_type": "execute_result"
    }
   ],
   "source": [
    "#for package remove is null and convert to integer\n",
    "b['package'].unique()"
   ]
  },
  {
   "cell_type": "code",
   "execution_count": 55,
   "metadata": {
    "collapsed": true
   },
   "outputs": [],
   "source": [
    "#'cartons' = 1, 20# cartons = 2\n",
    "b['package'] = b.package.map({'cartons':1, '20 lb cartons loose':2})"
   ]
  },
  {
   "cell_type": "code",
   "execution_count": 56,
   "metadata": {
    "collapsed": false
   },
   "outputs": [
    {
     "data": {
      "text/plain": [
       "0"
      ]
     },
     "execution_count": 56,
     "metadata": {},
     "output_type": "execute_result"
    }
   ],
   "source": [
    "b['package'].fillna(0, inplace=True)\n",
    "b['package'].isnull().sum()"
   ]
  },
  {
   "cell_type": "code",
   "execution_count": 57,
   "metadata": {
    "collapsed": false
   },
   "outputs": [
    {
     "data": {
      "text/plain": [
       "commodity                 0\n",
       "city                      0\n",
       "type                   8172\n",
       "package                   0\n",
       "variety                   0\n",
       "sub_variety            6733\n",
       "grade                  8244\n",
       "date                      0\n",
       "low_price               215\n",
       "high_price              215\n",
       "mostly_low             1690\n",
       "mostly_high            1690\n",
       "season                    0\n",
       "size                   3775\n",
       "color                  8244\n",
       "environment            8244\n",
       "unit_of_sale           8244\n",
       "quality                8244\n",
       "condition              8244\n",
       "appearance             8244\n",
       "storage                8244\n",
       "shelled                8244\n",
       "purchase_lot_size      8244\n",
       "section                8244\n",
       "import                 8244\n",
       "supply_tone            6227\n",
       "demand_tone              30\n",
       "basis_of_sale            25\n",
       "market_tone             300\n",
       "Price Comment          2758\n",
       "comments                 25\n",
       "rpt_city                  0\n",
       "month                     0\n",
       "avg_price                 0\n",
       "avg_mostly_price          0\n",
       "demand_bunch              0\n",
       "demand_cc                 0\n",
       "demand_general            0\n",
       "market_tone_bunch         0\n",
       "market_tone_cc            0\n",
       "market_tone_general       0\n",
       "weather                   0\n",
       "dtype: int64"
      ]
     },
     "execution_count": 57,
     "metadata": {},
     "output_type": "execute_result"
    }
   ],
   "source": [
    "b.isnull().sum()"
   ]
  },
  {
   "cell_type": "code",
   "execution_count": 58,
   "metadata": {
    "collapsed": true
   },
   "outputs": [],
   "source": [
    "#let's make some pretty graphs\n",
    "import numpy as np\n",
    "import matplotlib.pyplot as plt\n",
    "%matplotlib inline"
   ]
  },
  {
   "cell_type": "code",
   "execution_count": 59,
   "metadata": {
    "collapsed": false
   },
   "outputs": [
    {
     "data": {
      "text/plain": [
       "<matplotlib.axes._subplots.AxesSubplot at 0x1176535d0>"
      ]
     },
     "execution_count": 59,
     "metadata": {},
     "output_type": "execute_result"
    },
    {
     "data": {
      "image/png": "[encoded data removed]",
      "text/plain": [
       "<matplotlib.figure.Figure at 0x113275f10>"
      ]
     },
     "metadata": {},
     "output_type": "display_data"
    }
   ],
   "source": [
    "# Q: what terminal has the highest pricing?\n",
    "#A: Salinas\n",
    "b.groupby('city').avg_price.mean().plot('bar')"
   ]
  },
  {
   "cell_type": "code",
   "execution_count": 60,
   "metadata": {
    "collapsed": false
   },
   "outputs": [
    {
     "data": {
      "text/plain": [
       "<matplotlib.axes._subplots.AxesSubplot at 0x119b63ad0>"
      ]
     },
     "execution_count": 60,
     "metadata": {},
     "output_type": "execute_result"
    },
    {
     "data": {
      "image/png": "[encoded data removed]",
      "text/plain": [
       "<matplotlib.figure.Figure at 0x112225910>"
      ]
     },
     "metadata": {},
     "output_type": "display_data"
    }
   ],
   "source": [
    "#Q: What is the price difference between types over seasons\n",
    "#A: What the hell happened in 2015?! Actually this is a good illustration of why we're looking at this. We waaaay overpaid for broccoli last year because of a pricing plus model\n",
    "b.groupby(['variety', 'season']).avg_price.mean().plot('bar')"
   ]
  },
  {
   "cell_type": "code",
   "execution_count": 61,
   "metadata": {
    "collapsed": false
   },
   "outputs": [
    {
     "data": {
      "text/plain": [
       "<matplotlib.axes._subplots.AxesSubplot at 0x11a07a890>"
      ]
     },
     "execution_count": 61,
     "metadata": {},
     "output_type": "execute_result"
    },
    {
     "data": {
      "image/png": "[encoded data removed]",
      "text/plain": [
       "<matplotlib.figure.Figure at 0x11a25c850>"
      ]
     },
     "metadata": {},
     "output_type": "display_data"
    }
   ],
   "source": [
    "#Q: What are the price flutuations over the year?\n",
    "#A: Peak in early fall through winter\n",
    "b.groupby('month').avg_price.mean().plot('bar')"
   ]
  },
  {
   "cell_type": "code",
   "execution_count": 62,
   "metadata": {
    "collapsed": false
   },
   "outputs": [],
   "source": [
    "#time to do some predicting\n",
    "from sklearn.cross_validation import train_test_split\n",
    "from sklearn.cross_validation import cross_val_score\n",
    "from sklearn import metrics\n",
    "import statsmodels.formula.api as smf\n",
    "\n",
    "# visualization\n",
    "import seaborn as sns\n",
    "import matplotlib.pyplot as plt\n",
    "%matplotlib inline"
   ]
  },
  {
   "cell_type": "code",
   "execution_count": 63,
   "metadata": {
    "collapsed": true
   },
   "outputs": [],
   "source": [
    "#Decision Tree...go!"
   ]
  },
  {
   "cell_type": "code",
   "execution_count": 64,
   "metadata": {
    "collapsed": false
   },
   "outputs": [
    {
     "data": {
      "text/plain": [
       "11.8025109170307"
      ]
     },
     "execution_count": 64,
     "metadata": {},
     "output_type": "execute_result"
    }
   ],
   "source": [
    "b.avg_price.mean()"
   ]
  },
  {
   "cell_type": "code",
   "execution_count": 65,
   "metadata": {
    "collapsed": true
   },
   "outputs": [],
   "source": [
    "b['prediction'] = b.avg_price.mean()"
   ]
  },
  {
   "cell_type": "code",
   "execution_count": 66,
   "metadata": {
    "collapsed": false
   },
   "outputs": [
    {
     "data": {
      "text/html": [
       "<div>\n",
       "<table border=\"1\" class=\"dataframe\">\n",
       "  <thead>\n",
       "    <tr style=\"text-align: right;\">\n",
       "      <th></th>\n",
       "      <th>commodity</th>\n",
       "      <th>city</th>\n",
       "      <th>type</th>\n",
       "      <th>package</th>\n",
       "      <th>variety</th>\n",
       "      <th>sub_variety</th>\n",
       "      <th>grade</th>\n",
       "      <th>date</th>\n",
       "      <th>low_price</th>\n",
       "      <th>high_price</th>\n",
       "      <th>...</th>\n",
       "      <th>avg_price</th>\n",
       "      <th>avg_mostly_price</th>\n",
       "      <th>demand_bunch</th>\n",
       "      <th>demand_cc</th>\n",
       "      <th>demand_general</th>\n",
       "      <th>market_tone_bunch</th>\n",
       "      <th>market_tone_cc</th>\n",
       "      <th>market_tone_general</th>\n",
       "      <th>weather</th>\n",
       "      <th>prediction</th>\n",
       "    </tr>\n",
       "  </thead>\n",
       "  <tbody>\n",
       "    <tr>\n",
       "      <th>0</th>\n",
       "      <td>BROCCOLI</td>\n",
       "      <td>SALINAS</td>\n",
       "      <td>NaN</td>\n",
       "      <td>1.0</td>\n",
       "      <td>0</td>\n",
       "      <td>NaN</td>\n",
       "      <td>NaN</td>\n",
       "      <td>3/2/16</td>\n",
       "      <td>4.45</td>\n",
       "      <td>7.55</td>\n",
       "      <td>...</td>\n",
       "      <td>6.000</td>\n",
       "      <td>5.750</td>\n",
       "      <td>3.15</td>\n",
       "      <td>3.56</td>\n",
       "      <td>1.0</td>\n",
       "      <td>1.62</td>\n",
       "      <td>1.64</td>\n",
       "      <td>1.7</td>\n",
       "      <td>2.0</td>\n",
       "      <td>11.802511</td>\n",
       "    </tr>\n",
       "    <tr>\n",
       "      <th>1</th>\n",
       "      <td>BROCCOLI</td>\n",
       "      <td>SALINAS</td>\n",
       "      <td>NaN</td>\n",
       "      <td>1.0</td>\n",
       "      <td>0</td>\n",
       "      <td>NaN</td>\n",
       "      <td>NaN</td>\n",
       "      <td>3/3/16</td>\n",
       "      <td>5.45</td>\n",
       "      <td>7.55</td>\n",
       "      <td>...</td>\n",
       "      <td>6.500</td>\n",
       "      <td>5.975</td>\n",
       "      <td>3.15</td>\n",
       "      <td>3.56</td>\n",
       "      <td>1.0</td>\n",
       "      <td>1.62</td>\n",
       "      <td>1.64</td>\n",
       "      <td>2.0</td>\n",
       "      <td>2.0</td>\n",
       "      <td>11.802511</td>\n",
       "    </tr>\n",
       "    <tr>\n",
       "      <th>2</th>\n",
       "      <td>BROCCOLI</td>\n",
       "      <td>SALINAS</td>\n",
       "      <td>NaN</td>\n",
       "      <td>1.0</td>\n",
       "      <td>0</td>\n",
       "      <td>NaN</td>\n",
       "      <td>NaN</td>\n",
       "      <td>3/4/16</td>\n",
       "      <td>5.00</td>\n",
       "      <td>7.55</td>\n",
       "      <td>...</td>\n",
       "      <td>6.275</td>\n",
       "      <td>5.950</td>\n",
       "      <td>3.15</td>\n",
       "      <td>3.56</td>\n",
       "      <td>1.0</td>\n",
       "      <td>1.62</td>\n",
       "      <td>1.64</td>\n",
       "      <td>2.0</td>\n",
       "      <td>2.0</td>\n",
       "      <td>11.802511</td>\n",
       "    </tr>\n",
       "    <tr>\n",
       "      <th>3</th>\n",
       "      <td>BROCCOLI</td>\n",
       "      <td>SALINAS</td>\n",
       "      <td>NaN</td>\n",
       "      <td>1.0</td>\n",
       "      <td>0</td>\n",
       "      <td>NaN</td>\n",
       "      <td>NaN</td>\n",
       "      <td>3/7/16</td>\n",
       "      <td>4.65</td>\n",
       "      <td>8.55</td>\n",
       "      <td>...</td>\n",
       "      <td>6.600</td>\n",
       "      <td>5.950</td>\n",
       "      <td>3.15</td>\n",
       "      <td>3.56</td>\n",
       "      <td>1.0</td>\n",
       "      <td>1.62</td>\n",
       "      <td>1.00</td>\n",
       "      <td>0.0</td>\n",
       "      <td>0.0</td>\n",
       "      <td>11.802511</td>\n",
       "    </tr>\n",
       "    <tr>\n",
       "      <th>4</th>\n",
       "      <td>BROCCOLI</td>\n",
       "      <td>SALINAS</td>\n",
       "      <td>NaN</td>\n",
       "      <td>1.0</td>\n",
       "      <td>0</td>\n",
       "      <td>NaN</td>\n",
       "      <td>NaN</td>\n",
       "      <td>3/8/16</td>\n",
       "      <td>4.65</td>\n",
       "      <td>8.55</td>\n",
       "      <td>...</td>\n",
       "      <td>6.600</td>\n",
       "      <td>6.050</td>\n",
       "      <td>3.15</td>\n",
       "      <td>3.56</td>\n",
       "      <td>1.0</td>\n",
       "      <td>1.62</td>\n",
       "      <td>1.64</td>\n",
       "      <td>2.0</td>\n",
       "      <td>0.0</td>\n",
       "      <td>11.802511</td>\n",
       "    </tr>\n",
       "  </tbody>\n",
       "</table>\n",
       "<p>5 rows × 43 columns</p>\n",
       "</div>"
      ],
      "text/plain": [
       "  commodity     city type  package  variety sub_variety  grade    date  \\\n",
       "0  BROCCOLI  SALINAS  NaN      1.0        0         NaN    NaN  3/2/16   \n",
       "1  BROCCOLI  SALINAS  NaN      1.0        0         NaN    NaN  3/3/16   \n",
       "2  BROCCOLI  SALINAS  NaN      1.0        0         NaN    NaN  3/4/16   \n",
       "3  BROCCOLI  SALINAS  NaN      1.0        0         NaN    NaN  3/7/16   \n",
       "4  BROCCOLI  SALINAS  NaN      1.0        0         NaN    NaN  3/8/16   \n",
       "\n",
       "   low_price  high_price     ...      avg_price  avg_mostly_price  \\\n",
       "0       4.45        7.55     ...          6.000             5.750   \n",
       "1       5.45        7.55     ...          6.500             5.975   \n",
       "2       5.00        7.55     ...          6.275             5.950   \n",
       "3       4.65        8.55     ...          6.600             5.950   \n",
       "4       4.65        8.55     ...          6.600             6.050   \n",
       "\n",
       "   demand_bunch demand_cc  demand_general  market_tone_bunch  market_tone_cc  \\\n",
       "0          3.15      3.56             1.0               1.62            1.64   \n",
       "1          3.15      3.56             1.0               1.62            1.64   \n",
       "2          3.15      3.56             1.0               1.62            1.64   \n",
       "3          3.15      3.56             1.0               1.62            1.00   \n",
       "4          3.15      3.56             1.0               1.62            1.64   \n",
       "\n",
       "   market_tone_general  weather  prediction  \n",
       "0                  1.7      2.0   11.802511  \n",
       "1                  2.0      2.0   11.802511  \n",
       "2                  2.0      2.0   11.802511  \n",
       "3                  0.0      0.0   11.802511  \n",
       "4                  2.0      0.0   11.802511  \n",
       "\n",
       "[5 rows x 43 columns]"
      ]
     },
     "execution_count": 66,
     "metadata": {},
     "output_type": "execute_result"
    }
   ],
   "source": [
    "b.head(5)"
   ]
  },
  {
   "cell_type": "code",
   "execution_count": 67,
   "metadata": {
    "collapsed": false
   },
   "outputs": [
    {
     "data": {
      "text/plain": [
       "5.0282720864288768"
      ]
     },
     "execution_count": 67,
     "metadata": {},
     "output_type": "execute_result"
    }
   ],
   "source": [
    "from sklearn import metrics\n",
    "np.sqrt(metrics.mean_squared_error(b.avg_price, b.prediction))"
   ]
  },
  {
   "cell_type": "code",
   "execution_count": 68,
   "metadata": {
    "collapsed": false
   },
   "outputs": [],
   "source": [
    "features = ['package', 'variety', 'season', 'month', 'weather', 'demand_general', 'market_tone_general']\n",
    "x = b[features]\n",
    "y = b.avg_price"
   ]
  },
  {
   "cell_type": "code",
   "execution_count": 69,
   "metadata": {
    "collapsed": false
   },
   "outputs": [
    {
     "data": {
      "text/plain": [
       "DecisionTreeRegressor(criterion='mse', max_depth=None, max_features=None,\n",
       "           max_leaf_nodes=None, min_samples_leaf=1, min_samples_split=2,\n",
       "           min_weight_fraction_leaf=0.0, presort=False, random_state=None,\n",
       "           splitter='best')"
      ]
     },
     "execution_count": 69,
     "metadata": {},
     "output_type": "execute_result"
    }
   ],
   "source": [
    "from sklearn.tree import DecisionTreeRegressor\n",
    "treereg = DecisionTreeRegressor()\n",
    "treereg"
   ]
  },
  {
   "cell_type": "code",
   "execution_count": 70,
   "metadata": {
    "collapsed": false
   },
   "outputs": [],
   "source": [
    "#range of the possible depths\n",
    "max_depth_range = range(1, 10)\n",
    "\n",
    "# list to store the average RMSE for each value of max_depth\n",
    "RMSE_scores = []\n",
    "\n",
    "# use LOOCV with each value of max_depth\n",
    "for depth in max_depth_range:\n",
    "    treereg = DecisionTreeRegressor(max_depth=depth)\n",
    "    MSE_scores = cross_val_score(treereg, x, y, cv=14, scoring='mean_squared_error')\n",
    "    RMSE_scores.append(np.mean(np.sqrt(-MSE_scores)))"
   ]
  },
  {
   "cell_type": "code",
   "execution_count": 71,
   "metadata": {
    "collapsed": false
   },
   "outputs": [
    {
     "data": {
      "text/plain": [
       "<matplotlib.text.Text at 0x11da1d110>"
      ]
     },
     "execution_count": 71,
     "metadata": {},
     "output_type": "execute_result"
    },
    {
     "data": {
      "image/png": "[encoded data removed]",
      "text/plain": [
       "<matplotlib.figure.Figure at 0x102488850>"
      ]
     },
     "metadata": {},
     "output_type": "display_data"
    }
   ],
   "source": [
    "plt.plot(max_depth_range, RMSE_scores)\n",
    "plt.xlabel('max_depth')\n",
    "plt.ylabel('RMSE (lower is better)')"
   ]
  },
  {
   "cell_type": "code",
   "execution_count": 72,
   "metadata": {
    "collapsed": false
   },
   "outputs": [
    {
     "data": {
      "text/plain": [
       "DecisionTreeRegressor(criterion='mse', max_depth=3, max_features=None,\n",
       "           max_leaf_nodes=None, min_samples_leaf=1, min_samples_split=2,\n",
       "           min_weight_fraction_leaf=0.0, presort=False, random_state=1,\n",
       "           splitter='best')"
      ]
     },
     "execution_count": 72,
     "metadata": {},
     "output_type": "execute_result"
    }
   ],
   "source": [
    "treereg = DecisionTreeRegressor(max_depth=3, random_state=1)\n",
    "treereg.fit(x, y)"
   ]
  },
  {
   "cell_type": "code",
   "execution_count": 73,
   "metadata": {
    "collapsed": false
   },
   "outputs": [
    {
     "data": {
      "text/plain": [
       "4.6926632783296709"
      ]
     },
     "execution_count": 73,
     "metadata": {},
     "output_type": "execute_result"
    }
   ],
   "source": [
    "#cross val to look at RMSE\n",
    "scores = cross_val_score(treereg, x, y, scoring='mean_squared_error')\n",
    "np.mean(np.sqrt(-scores))"
   ]
  },
  {
   "cell_type": "code",
   "execution_count": 74,
   "metadata": {
    "collapsed": false,
    "scrolled": true
   },
   "outputs": [
    {
     "data": {
      "text/html": [
       "<div>\n",
       "<table border=\"1\" class=\"dataframe\">\n",
       "  <thead>\n",
       "    <tr style=\"text-align: right;\">\n",
       "      <th></th>\n",
       "      <th>feature</th>\n",
       "      <th>importance</th>\n",
       "    </tr>\n",
       "  </thead>\n",
       "  <tbody>\n",
       "    <tr>\n",
       "      <th>2</th>\n",
       "      <td>season</td>\n",
       "      <td>0.474276</td>\n",
       "    </tr>\n",
       "    <tr>\n",
       "      <th>3</th>\n",
       "      <td>month</td>\n",
       "      <td>0.350854</td>\n",
       "    </tr>\n",
       "    <tr>\n",
       "      <th>5</th>\n",
       "      <td>demand_general</td>\n",
       "      <td>0.109849</td>\n",
       "    </tr>\n",
       "    <tr>\n",
       "      <th>1</th>\n",
       "      <td>variety</td>\n",
       "      <td>0.065021</td>\n",
       "    </tr>\n",
       "    <tr>\n",
       "      <th>0</th>\n",
       "      <td>package</td>\n",
       "      <td>0.000000</td>\n",
       "    </tr>\n",
       "    <tr>\n",
       "      <th>4</th>\n",
       "      <td>weather</td>\n",
       "      <td>0.000000</td>\n",
       "    </tr>\n",
       "    <tr>\n",
       "      <th>6</th>\n",
       "      <td>market_tone_general</td>\n",
       "      <td>0.000000</td>\n",
       "    </tr>\n",
       "  </tbody>\n",
       "</table>\n",
       "</div>"
      ],
      "text/plain": [
       "               feature  importance\n",
       "2               season    0.474276\n",
       "3                month    0.350854\n",
       "5       demand_general    0.109849\n",
       "1              variety    0.065021\n",
       "0              package    0.000000\n",
       "4              weather    0.000000\n",
       "6  market_tone_general    0.000000"
      ]
     },
     "execution_count": 74,
     "metadata": {},
     "output_type": "execute_result"
    }
   ],
   "source": [
    "pd.DataFrame({'feature':features, 'importance':treereg.feature_importances_}).sort_values('importance', ascending=False)"
   ]
  },
  {
   "cell_type": "code",
   "execution_count": 106,
   "metadata": {
    "collapsed": false
   },
   "outputs": [],
   "source": [
    "from sklearn.tree import export_graphviz\n",
    "export_graphviz(treereg, out_file='tree_b.dot', feature_names=features)"
   ]
  },
  {
   "cell_type": "code",
   "execution_count": 76,
   "metadata": {
    "collapsed": true
   },
   "outputs": [],
   "source": [
    "#linear regression...GO!"
   ]
  },
  {
   "cell_type": "code",
   "execution_count": 79,
   "metadata": {
    "collapsed": true
   },
   "outputs": [],
   "source": [
    "from sklearn.linear_model import LinearRegression"
   ]
  },
  {
   "cell_type": "code",
   "execution_count": 80,
   "metadata": {
    "collapsed": false
   },
   "outputs": [
    {
     "data": {
      "text/html": [
       "<div>\n",
       "<table border=\"1\" class=\"dataframe\">\n",
       "  <thead>\n",
       "    <tr style=\"text-align: right;\">\n",
       "      <th></th>\n",
       "      <th>commodity</th>\n",
       "      <th>city</th>\n",
       "      <th>type</th>\n",
       "      <th>package</th>\n",
       "      <th>variety</th>\n",
       "      <th>sub_variety</th>\n",
       "      <th>grade</th>\n",
       "      <th>date</th>\n",
       "      <th>low_price</th>\n",
       "      <th>high_price</th>\n",
       "      <th>...</th>\n",
       "      <th>avg_price</th>\n",
       "      <th>avg_mostly_price</th>\n",
       "      <th>demand_bunch</th>\n",
       "      <th>demand_cc</th>\n",
       "      <th>demand_general</th>\n",
       "      <th>market_tone_bunch</th>\n",
       "      <th>market_tone_cc</th>\n",
       "      <th>market_tone_general</th>\n",
       "      <th>weather</th>\n",
       "      <th>prediction</th>\n",
       "    </tr>\n",
       "  </thead>\n",
       "  <tbody>\n",
       "    <tr>\n",
       "      <th>0</th>\n",
       "      <td>BROCCOLI</td>\n",
       "      <td>SALINAS</td>\n",
       "      <td>NaN</td>\n",
       "      <td>1.0</td>\n",
       "      <td>0</td>\n",
       "      <td>NaN</td>\n",
       "      <td>NaN</td>\n",
       "      <td>3/2/16</td>\n",
       "      <td>4.45</td>\n",
       "      <td>7.55</td>\n",
       "      <td>...</td>\n",
       "      <td>6.000</td>\n",
       "      <td>5.750</td>\n",
       "      <td>3.15</td>\n",
       "      <td>3.56</td>\n",
       "      <td>1.0</td>\n",
       "      <td>1.62</td>\n",
       "      <td>1.64</td>\n",
       "      <td>1.7</td>\n",
       "      <td>2.0</td>\n",
       "      <td>11.802511</td>\n",
       "    </tr>\n",
       "    <tr>\n",
       "      <th>1</th>\n",
       "      <td>BROCCOLI</td>\n",
       "      <td>SALINAS</td>\n",
       "      <td>NaN</td>\n",
       "      <td>1.0</td>\n",
       "      <td>0</td>\n",
       "      <td>NaN</td>\n",
       "      <td>NaN</td>\n",
       "      <td>3/3/16</td>\n",
       "      <td>5.45</td>\n",
       "      <td>7.55</td>\n",
       "      <td>...</td>\n",
       "      <td>6.500</td>\n",
       "      <td>5.975</td>\n",
       "      <td>3.15</td>\n",
       "      <td>3.56</td>\n",
       "      <td>1.0</td>\n",
       "      <td>1.62</td>\n",
       "      <td>1.64</td>\n",
       "      <td>2.0</td>\n",
       "      <td>2.0</td>\n",
       "      <td>11.802511</td>\n",
       "    </tr>\n",
       "    <tr>\n",
       "      <th>2</th>\n",
       "      <td>BROCCOLI</td>\n",
       "      <td>SALINAS</td>\n",
       "      <td>NaN</td>\n",
       "      <td>1.0</td>\n",
       "      <td>0</td>\n",
       "      <td>NaN</td>\n",
       "      <td>NaN</td>\n",
       "      <td>3/4/16</td>\n",
       "      <td>5.00</td>\n",
       "      <td>7.55</td>\n",
       "      <td>...</td>\n",
       "      <td>6.275</td>\n",
       "      <td>5.950</td>\n",
       "      <td>3.15</td>\n",
       "      <td>3.56</td>\n",
       "      <td>1.0</td>\n",
       "      <td>1.62</td>\n",
       "      <td>1.64</td>\n",
       "      <td>2.0</td>\n",
       "      <td>2.0</td>\n",
       "      <td>11.802511</td>\n",
       "    </tr>\n",
       "    <tr>\n",
       "      <th>3</th>\n",
       "      <td>BROCCOLI</td>\n",
       "      <td>SALINAS</td>\n",
       "      <td>NaN</td>\n",
       "      <td>1.0</td>\n",
       "      <td>0</td>\n",
       "      <td>NaN</td>\n",
       "      <td>NaN</td>\n",
       "      <td>3/7/16</td>\n",
       "      <td>4.65</td>\n",
       "      <td>8.55</td>\n",
       "      <td>...</td>\n",
       "      <td>6.600</td>\n",
       "      <td>5.950</td>\n",
       "      <td>3.15</td>\n",
       "      <td>3.56</td>\n",
       "      <td>1.0</td>\n",
       "      <td>1.62</td>\n",
       "      <td>1.00</td>\n",
       "      <td>0.0</td>\n",
       "      <td>0.0</td>\n",
       "      <td>11.802511</td>\n",
       "    </tr>\n",
       "    <tr>\n",
       "      <th>4</th>\n",
       "      <td>BROCCOLI</td>\n",
       "      <td>SALINAS</td>\n",
       "      <td>NaN</td>\n",
       "      <td>1.0</td>\n",
       "      <td>0</td>\n",
       "      <td>NaN</td>\n",
       "      <td>NaN</td>\n",
       "      <td>3/8/16</td>\n",
       "      <td>4.65</td>\n",
       "      <td>8.55</td>\n",
       "      <td>...</td>\n",
       "      <td>6.600</td>\n",
       "      <td>6.050</td>\n",
       "      <td>3.15</td>\n",
       "      <td>3.56</td>\n",
       "      <td>1.0</td>\n",
       "      <td>1.62</td>\n",
       "      <td>1.64</td>\n",
       "      <td>2.0</td>\n",
       "      <td>0.0</td>\n",
       "      <td>11.802511</td>\n",
       "    </tr>\n",
       "  </tbody>\n",
       "</table>\n",
       "<p>5 rows × 43 columns</p>\n",
       "</div>"
      ],
      "text/plain": [
       "  commodity     city type  package  variety sub_variety  grade    date  \\\n",
       "0  BROCCOLI  SALINAS  NaN      1.0        0         NaN    NaN  3/2/16   \n",
       "1  BROCCOLI  SALINAS  NaN      1.0        0         NaN    NaN  3/3/16   \n",
       "2  BROCCOLI  SALINAS  NaN      1.0        0         NaN    NaN  3/4/16   \n",
       "3  BROCCOLI  SALINAS  NaN      1.0        0         NaN    NaN  3/7/16   \n",
       "4  BROCCOLI  SALINAS  NaN      1.0        0         NaN    NaN  3/8/16   \n",
       "\n",
       "   low_price  high_price     ...      avg_price  avg_mostly_price  \\\n",
       "0       4.45        7.55     ...          6.000             5.750   \n",
       "1       5.45        7.55     ...          6.500             5.975   \n",
       "2       5.00        7.55     ...          6.275             5.950   \n",
       "3       4.65        8.55     ...          6.600             5.950   \n",
       "4       4.65        8.55     ...          6.600             6.050   \n",
       "\n",
       "   demand_bunch demand_cc  demand_general  market_tone_bunch  market_tone_cc  \\\n",
       "0          3.15      3.56             1.0               1.62            1.64   \n",
       "1          3.15      3.56             1.0               1.62            1.64   \n",
       "2          3.15      3.56             1.0               1.62            1.64   \n",
       "3          3.15      3.56             1.0               1.62            1.00   \n",
       "4          3.15      3.56             1.0               1.62            1.64   \n",
       "\n",
       "   market_tone_general  weather  prediction  \n",
       "0                  1.7      2.0   11.802511  \n",
       "1                  2.0      2.0   11.802511  \n",
       "2                  2.0      2.0   11.802511  \n",
       "3                  0.0      0.0   11.802511  \n",
       "4                  2.0      0.0   11.802511  \n",
       "\n",
       "[5 rows x 43 columns]"
      ]
     },
     "execution_count": 80,
     "metadata": {},
     "output_type": "execute_result"
    }
   ],
   "source": [
    "b.head(5)"
   ]
  },
  {
   "cell_type": "code",
   "execution_count": 87,
   "metadata": {
    "collapsed": false
   },
   "outputs": [],
   "source": [
    "feature_cols = ['package', 'variety', 'season', 'month', 'weather', 'demand_general', 'market_tone_general']\n",
    "x = b[feature_cols]\n",
    "y = b.avg_price"
   ]
  },
  {
   "cell_type": "code",
   "execution_count": 88,
   "metadata": {
    "collapsed": false
   },
   "outputs": [],
   "source": [
    "linreg = LinearRegression()"
   ]
  },
  {
   "cell_type": "code",
   "execution_count": 89,
   "metadata": {
    "collapsed": false
   },
   "outputs": [
    {
     "data": {
      "text/plain": [
       "LinearRegression(copy_X=True, fit_intercept=True, n_jobs=1, normalize=False)"
      ]
     },
     "execution_count": 89,
     "metadata": {},
     "output_type": "execute_result"
    }
   ],
   "source": [
    "linreg.fit(x,y)"
   ]
  },
  {
   "cell_type": "code",
   "execution_count": 91,
   "metadata": {
    "collapsed": false
   },
   "outputs": [
    {
     "name": "stdout",
     "output_type": "stream",
     "text": [
      "-2378.2738217\n",
      "[-0.83787553  2.6841958   1.18401545  0.34691835  0.49721602  1.2731044\n",
      " -0.46675564]\n"
     ]
    }
   ],
   "source": [
    "# print the coefficients\n",
    "print linreg.intercept_\n",
    "print linreg.coef_"
   ]
  },
  {
   "cell_type": "code",
   "execution_count": 93,
   "metadata": {
    "collapsed": false
   },
   "outputs": [
    {
     "data": {
      "text/plain": [
       "[('package', -0.83787552608416171),\n",
       " ('variety', 2.6841958009032489),\n",
       " ('season', 1.1840154527884112),\n",
       " ('month', 0.34691835293951773),\n",
       " ('weather', 0.49721602004905663),\n",
       " ('demand_general', 1.2731044000576439),\n",
       " ('market_tone_general', -0.46675563822130572)]"
      ]
     },
     "execution_count": 93,
     "metadata": {},
     "output_type": "execute_result"
    }
   ],
   "source": [
    "zip(feature_cols, linreg.coef_)"
   ]
  },
  {
   "cell_type": "code",
   "execution_count": 94,
   "metadata": {
    "collapsed": true
   },
   "outputs": [],
   "source": [
    "#train test split\n",
    "def train_test_rmse(x, y):\n",
    "    x_train, x_test, y_train, y_test = train_test_split(x, y, random_state=1)\n",
    "    linreg = LinearRegression()\n",
    "    linreg.fit(x_train, y_train)\n",
    "    y_pred = linreg.predict(x_test)\n",
    "    return np.sqrt(metrics.mean_squared_error(y_test, y_pred))"
   ]
  },
  {
   "cell_type": "code",
   "execution_count": 102,
   "metadata": {
    "collapsed": false
   },
   "outputs": [
    {
     "data": {
      "text/plain": [
       "4.2892598537284314"
      ]
     },
     "execution_count": 102,
     "metadata": {},
     "output_type": "execute_result"
    }
   ],
   "source": [
    "feature_cols = ['season', 'month', 'demand_general', 'variety']\n",
    "x = b[feature_cols]\n",
    "train_test_rmse(x, y)"
   ]
  },
  {
   "cell_type": "code",
   "execution_count": null,
   "metadata": {
    "collapsed": true
   },
   "outputs": [],
   "source": []
  }
 ],
 "metadata": {
  "kernelspec": {
   "display_name": "Python 2",
   "language": "python",
   "name": "python2"
  },
  "language_info": {
   "codemirror_mode": {
    "name": "ipython",
    "version": 2
   },
   "file_extension": ".py",
   "mimetype": "text/x-python",
   "name": "python",
   "nbconvert_exporter": "python",
   "pygments_lexer": "ipython2",
   "version": "2.7.11"
  }
 },
 "nbformat": 4,
 "nbformat_minor": 0
}
